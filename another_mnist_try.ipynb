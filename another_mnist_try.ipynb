{
 "cells": [
  {
   "cell_type": "code",
   "execution_count": 1,
   "id": "killing-sample",
   "metadata": {
    "execution": {
     "iopub.execute_input": "2021-07-12T14:26:19.621782Z",
     "iopub.status.busy": "2021-07-12T14:26:19.620960Z",
     "iopub.status.idle": "2021-07-12T14:26:20.718164Z",
     "shell.execute_reply": "2021-07-12T14:26:20.716888Z",
     "shell.execute_reply.started": "2021-07-12T10:39:40.427142Z"
    },
    "papermill": {
     "duration": 1.170656,
     "end_time": "2021-07-12T14:26:20.718496",
     "exception": false,
     "start_time": "2021-07-12T14:26:19.547840",
     "status": "completed"
    },
    "tags": []
   },
   "outputs": [
    {
     "name": "stdout",
     "output_type": "stream",
     "text": [
      "../input/digit-recognizer/sample_submission.csv\n",
      "../input/digit-recognizer/train.csv\n",
      "../input/digit-recognizer/test.csv\n"
     ]
    }
   ],
   "source": [
    "import numpy as np # linear algebra\r\n",
    "import pandas as pd # data processing, CSV file I/O (e.g. pd.read_csv)\r\n",
    "import matplotlib.pyplot as plt\r\n",
    "import seaborn as sn\r\n",
    "\r\n",
    "from random import seed\r\n",
    "seed(1)\r\n",
    "\r\n",
    "\r\n",
    "kaggle = 1 # Kaggle active 1\r\n",
    "\r\n",
    "if kaggle == 1 :\r\n",
    "    MNIST_PATH= '../input/digit-recognizer'\r\n",
    "else:\r\n",
    "    MNIST_PATH= '../Another_MNIST_try/data/input/digit-recognizer'\r\n",
    "\r\n",
    "\r\n",
    "\r\n",
    "%matplotlib inline\r\n",
    "\r\n",
    "import os\r\n",
    "for dirname, _, filenames in os.walk(MNIST_PATH): \r\n",
    "    for filename in filenames:\r\n",
    "        print(os.path.join(dirname, filename))"
   ]
  },
  {
   "cell_type": "markdown",
   "id": "conceptual-death",
   "metadata": {
    "papermill": {
     "duration": 0.057295,
     "end_time": "2021-07-12T14:26:20.834304",
     "exception": false,
     "start_time": "2021-07-12T14:26:20.777009",
     "status": "completed"
    },
    "tags": []
   },
   "source": [
    "# The Big Picture\n",
    "Link to the topic: https://www.kaggle.com/c/digit-recognizer/data"
   ]
  },
  {
   "cell_type": "markdown",
   "id": "meaning-archive",
   "metadata": {
    "papermill": {
     "duration": 0.054385,
     "end_time": "2021-07-12T14:26:20.944852",
     "exception": false,
     "start_time": "2021-07-12T14:26:20.890467",
     "status": "completed"
    },
    "tags": []
   },
   "source": [
    "# Get Data"
   ]
  },
  {
   "cell_type": "code",
   "execution_count": 2,
   "id": "crude-school",
   "metadata": {
    "execution": {
     "iopub.execute_input": "2021-07-12T14:26:21.063655Z",
     "iopub.status.busy": "2021-07-12T14:26:21.062932Z",
     "iopub.status.idle": "2021-07-12T14:26:27.403658Z",
     "shell.execute_reply": "2021-07-12T14:26:27.403026Z",
     "shell.execute_reply.started": "2021-07-12T10:39:41.452084Z"
    },
    "papermill": {
     "duration": 6.404342,
     "end_time": "2021-07-12T14:26:27.403865",
     "exception": false,
     "start_time": "2021-07-12T14:26:20.999523",
     "status": "completed"
    },
    "tags": []
   },
   "outputs": [],
   "source": [
    "# Data path and file\r\n",
    "#MNIST_PATH= '../input/digit-recognizer'\r\n",
    "#MNIST_PATH= '../Another_MNIST_try/data/input/digit-recognizer'\r\n",
    "CSV_FILE_TRAIN='train.csv'\r\n",
    "CSV_FILE_TEST='test.csv'\r\n",
    "\r\n",
    "def load_mnist_data(minist_path, csv_file):\r\n",
    "    csv_path = os.path.join(minist_path, csv_file)\r\n",
    "    return pd.read_csv(csv_path)\r\n",
    "\r\n",
    "def load_mnist_data_manuel(minist_path, csv_file):\r\n",
    "    csv_path = os.path.join(minist_path, csv_file)\r\n",
    "    csv_file = open(csv_path, 'r')\r\n",
    "    csv_data = csv_file.readlines()\r\n",
    "    csv_file.close()\r\n",
    "    return csv_data\r\n",
    "\r\n",
    "def split_train_val(data, val_ratio):\r\n",
    "    return \r\n",
    "    \r\n",
    "\r\n",
    "train = load_mnist_data(MNIST_PATH,CSV_FILE_TRAIN)\r\n",
    "test = load_mnist_data(MNIST_PATH,CSV_FILE_TEST)\r\n",
    "\r\n",
    "train_2 = load_mnist_data_manuel(MNIST_PATH,CSV_FILE_TRAIN)"
   ]
  },
  {
   "cell_type": "code",
   "execution_count": 3,
   "id": "mental-paper",
   "metadata": {
    "execution": {
     "iopub.execute_input": "2021-07-12T14:26:27.534289Z",
     "iopub.status.busy": "2021-07-12T14:26:27.529250Z",
     "iopub.status.idle": "2021-07-12T14:26:29.976675Z",
     "shell.execute_reply": "2021-07-12T14:26:29.976116Z",
     "shell.execute_reply.started": "2021-07-12T10:39:47.737521Z"
    },
    "papermill": {
     "duration": 2.516411,
     "end_time": "2021-07-12T14:26:29.976871",
     "exception": false,
     "start_time": "2021-07-12T14:26:27.460460",
     "status": "completed"
    },
    "tags": []
   },
   "outputs": [
    {
     "data": {
      "text/html": [
       "<div>\n",
       "<style scoped>\n",
       "    .dataframe tbody tr th:only-of-type {\n",
       "        vertical-align: middle;\n",
       "    }\n",
       "\n",
       "    .dataframe tbody tr th {\n",
       "        vertical-align: top;\n",
       "    }\n",
       "\n",
       "    .dataframe thead th {\n",
       "        text-align: right;\n",
       "    }\n",
       "</style>\n",
       "<table border=\"1\" class=\"dataframe\">\n",
       "  <thead>\n",
       "    <tr style=\"text-align: right;\">\n",
       "      <th></th>\n",
       "      <th>label</th>\n",
       "      <th>pixel0</th>\n",
       "      <th>pixel1</th>\n",
       "      <th>pixel2</th>\n",
       "      <th>pixel3</th>\n",
       "      <th>pixel4</th>\n",
       "      <th>pixel5</th>\n",
       "      <th>pixel6</th>\n",
       "      <th>pixel7</th>\n",
       "      <th>pixel8</th>\n",
       "      <th>...</th>\n",
       "      <th>pixel774</th>\n",
       "      <th>pixel775</th>\n",
       "      <th>pixel776</th>\n",
       "      <th>pixel777</th>\n",
       "      <th>pixel778</th>\n",
       "      <th>pixel779</th>\n",
       "      <th>pixel780</th>\n",
       "      <th>pixel781</th>\n",
       "      <th>pixel782</th>\n",
       "      <th>pixel783</th>\n",
       "    </tr>\n",
       "  </thead>\n",
       "  <tbody>\n",
       "    <tr>\n",
       "      <th>count</th>\n",
       "      <td>42000.000000</td>\n",
       "      <td>42000.0</td>\n",
       "      <td>42000.0</td>\n",
       "      <td>42000.0</td>\n",
       "      <td>42000.0</td>\n",
       "      <td>42000.0</td>\n",
       "      <td>42000.0</td>\n",
       "      <td>42000.0</td>\n",
       "      <td>42000.0</td>\n",
       "      <td>42000.0</td>\n",
       "      <td>...</td>\n",
       "      <td>42000.000000</td>\n",
       "      <td>42000.000000</td>\n",
       "      <td>42000.000000</td>\n",
       "      <td>42000.00000</td>\n",
       "      <td>42000.000000</td>\n",
       "      <td>42000.000000</td>\n",
       "      <td>42000.0</td>\n",
       "      <td>42000.0</td>\n",
       "      <td>42000.0</td>\n",
       "      <td>42000.0</td>\n",
       "    </tr>\n",
       "    <tr>\n",
       "      <th>mean</th>\n",
       "      <td>4.456643</td>\n",
       "      <td>0.0</td>\n",
       "      <td>0.0</td>\n",
       "      <td>0.0</td>\n",
       "      <td>0.0</td>\n",
       "      <td>0.0</td>\n",
       "      <td>0.0</td>\n",
       "      <td>0.0</td>\n",
       "      <td>0.0</td>\n",
       "      <td>0.0</td>\n",
       "      <td>...</td>\n",
       "      <td>0.219286</td>\n",
       "      <td>0.117095</td>\n",
       "      <td>0.059024</td>\n",
       "      <td>0.02019</td>\n",
       "      <td>0.017238</td>\n",
       "      <td>0.002857</td>\n",
       "      <td>0.0</td>\n",
       "      <td>0.0</td>\n",
       "      <td>0.0</td>\n",
       "      <td>0.0</td>\n",
       "    </tr>\n",
       "    <tr>\n",
       "      <th>std</th>\n",
       "      <td>2.887730</td>\n",
       "      <td>0.0</td>\n",
       "      <td>0.0</td>\n",
       "      <td>0.0</td>\n",
       "      <td>0.0</td>\n",
       "      <td>0.0</td>\n",
       "      <td>0.0</td>\n",
       "      <td>0.0</td>\n",
       "      <td>0.0</td>\n",
       "      <td>0.0</td>\n",
       "      <td>...</td>\n",
       "      <td>6.312890</td>\n",
       "      <td>4.633819</td>\n",
       "      <td>3.274488</td>\n",
       "      <td>1.75987</td>\n",
       "      <td>1.894498</td>\n",
       "      <td>0.414264</td>\n",
       "      <td>0.0</td>\n",
       "      <td>0.0</td>\n",
       "      <td>0.0</td>\n",
       "      <td>0.0</td>\n",
       "    </tr>\n",
       "    <tr>\n",
       "      <th>min</th>\n",
       "      <td>0.000000</td>\n",
       "      <td>0.0</td>\n",
       "      <td>0.0</td>\n",
       "      <td>0.0</td>\n",
       "      <td>0.0</td>\n",
       "      <td>0.0</td>\n",
       "      <td>0.0</td>\n",
       "      <td>0.0</td>\n",
       "      <td>0.0</td>\n",
       "      <td>0.0</td>\n",
       "      <td>...</td>\n",
       "      <td>0.000000</td>\n",
       "      <td>0.000000</td>\n",
       "      <td>0.000000</td>\n",
       "      <td>0.00000</td>\n",
       "      <td>0.000000</td>\n",
       "      <td>0.000000</td>\n",
       "      <td>0.0</td>\n",
       "      <td>0.0</td>\n",
       "      <td>0.0</td>\n",
       "      <td>0.0</td>\n",
       "    </tr>\n",
       "    <tr>\n",
       "      <th>25%</th>\n",
       "      <td>2.000000</td>\n",
       "      <td>0.0</td>\n",
       "      <td>0.0</td>\n",
       "      <td>0.0</td>\n",
       "      <td>0.0</td>\n",
       "      <td>0.0</td>\n",
       "      <td>0.0</td>\n",
       "      <td>0.0</td>\n",
       "      <td>0.0</td>\n",
       "      <td>0.0</td>\n",
       "      <td>...</td>\n",
       "      <td>0.000000</td>\n",
       "      <td>0.000000</td>\n",
       "      <td>0.000000</td>\n",
       "      <td>0.00000</td>\n",
       "      <td>0.000000</td>\n",
       "      <td>0.000000</td>\n",
       "      <td>0.0</td>\n",
       "      <td>0.0</td>\n",
       "      <td>0.0</td>\n",
       "      <td>0.0</td>\n",
       "    </tr>\n",
       "    <tr>\n",
       "      <th>50%</th>\n",
       "      <td>4.000000</td>\n",
       "      <td>0.0</td>\n",
       "      <td>0.0</td>\n",
       "      <td>0.0</td>\n",
       "      <td>0.0</td>\n",
       "      <td>0.0</td>\n",
       "      <td>0.0</td>\n",
       "      <td>0.0</td>\n",
       "      <td>0.0</td>\n",
       "      <td>0.0</td>\n",
       "      <td>...</td>\n",
       "      <td>0.000000</td>\n",
       "      <td>0.000000</td>\n",
       "      <td>0.000000</td>\n",
       "      <td>0.00000</td>\n",
       "      <td>0.000000</td>\n",
       "      <td>0.000000</td>\n",
       "      <td>0.0</td>\n",
       "      <td>0.0</td>\n",
       "      <td>0.0</td>\n",
       "      <td>0.0</td>\n",
       "    </tr>\n",
       "    <tr>\n",
       "      <th>75%</th>\n",
       "      <td>7.000000</td>\n",
       "      <td>0.0</td>\n",
       "      <td>0.0</td>\n",
       "      <td>0.0</td>\n",
       "      <td>0.0</td>\n",
       "      <td>0.0</td>\n",
       "      <td>0.0</td>\n",
       "      <td>0.0</td>\n",
       "      <td>0.0</td>\n",
       "      <td>0.0</td>\n",
       "      <td>...</td>\n",
       "      <td>0.000000</td>\n",
       "      <td>0.000000</td>\n",
       "      <td>0.000000</td>\n",
       "      <td>0.00000</td>\n",
       "      <td>0.000000</td>\n",
       "      <td>0.000000</td>\n",
       "      <td>0.0</td>\n",
       "      <td>0.0</td>\n",
       "      <td>0.0</td>\n",
       "      <td>0.0</td>\n",
       "    </tr>\n",
       "    <tr>\n",
       "      <th>max</th>\n",
       "      <td>9.000000</td>\n",
       "      <td>0.0</td>\n",
       "      <td>0.0</td>\n",
       "      <td>0.0</td>\n",
       "      <td>0.0</td>\n",
       "      <td>0.0</td>\n",
       "      <td>0.0</td>\n",
       "      <td>0.0</td>\n",
       "      <td>0.0</td>\n",
       "      <td>0.0</td>\n",
       "      <td>...</td>\n",
       "      <td>254.000000</td>\n",
       "      <td>254.000000</td>\n",
       "      <td>253.000000</td>\n",
       "      <td>253.00000</td>\n",
       "      <td>254.000000</td>\n",
       "      <td>62.000000</td>\n",
       "      <td>0.0</td>\n",
       "      <td>0.0</td>\n",
       "      <td>0.0</td>\n",
       "      <td>0.0</td>\n",
       "    </tr>\n",
       "  </tbody>\n",
       "</table>\n",
       "<p>8 rows × 785 columns</p>\n",
       "</div>"
      ],
      "text/plain": [
       "              label   pixel0   pixel1   pixel2   pixel3   pixel4   pixel5  \\\n",
       "count  42000.000000  42000.0  42000.0  42000.0  42000.0  42000.0  42000.0   \n",
       "mean       4.456643      0.0      0.0      0.0      0.0      0.0      0.0   \n",
       "std        2.887730      0.0      0.0      0.0      0.0      0.0      0.0   \n",
       "min        0.000000      0.0      0.0      0.0      0.0      0.0      0.0   \n",
       "25%        2.000000      0.0      0.0      0.0      0.0      0.0      0.0   \n",
       "50%        4.000000      0.0      0.0      0.0      0.0      0.0      0.0   \n",
       "75%        7.000000      0.0      0.0      0.0      0.0      0.0      0.0   \n",
       "max        9.000000      0.0      0.0      0.0      0.0      0.0      0.0   \n",
       "\n",
       "        pixel6   pixel7   pixel8  ...      pixel774      pixel775  \\\n",
       "count  42000.0  42000.0  42000.0  ...  42000.000000  42000.000000   \n",
       "mean       0.0      0.0      0.0  ...      0.219286      0.117095   \n",
       "std        0.0      0.0      0.0  ...      6.312890      4.633819   \n",
       "min        0.0      0.0      0.0  ...      0.000000      0.000000   \n",
       "25%        0.0      0.0      0.0  ...      0.000000      0.000000   \n",
       "50%        0.0      0.0      0.0  ...      0.000000      0.000000   \n",
       "75%        0.0      0.0      0.0  ...      0.000000      0.000000   \n",
       "max        0.0      0.0      0.0  ...    254.000000    254.000000   \n",
       "\n",
       "           pixel776     pixel777      pixel778      pixel779  pixel780  \\\n",
       "count  42000.000000  42000.00000  42000.000000  42000.000000   42000.0   \n",
       "mean       0.059024      0.02019      0.017238      0.002857       0.0   \n",
       "std        3.274488      1.75987      1.894498      0.414264       0.0   \n",
       "min        0.000000      0.00000      0.000000      0.000000       0.0   \n",
       "25%        0.000000      0.00000      0.000000      0.000000       0.0   \n",
       "50%        0.000000      0.00000      0.000000      0.000000       0.0   \n",
       "75%        0.000000      0.00000      0.000000      0.000000       0.0   \n",
       "max      253.000000    253.00000    254.000000     62.000000       0.0   \n",
       "\n",
       "       pixel781  pixel782  pixel783  \n",
       "count   42000.0   42000.0   42000.0  \n",
       "mean        0.0       0.0       0.0  \n",
       "std         0.0       0.0       0.0  \n",
       "min         0.0       0.0       0.0  \n",
       "25%         0.0       0.0       0.0  \n",
       "50%         0.0       0.0       0.0  \n",
       "75%         0.0       0.0       0.0  \n",
       "max         0.0       0.0       0.0  \n",
       "\n",
       "[8 rows x 785 columns]"
      ]
     },
     "execution_count": 3,
     "metadata": {},
     "output_type": "execute_result"
    }
   ],
   "source": [
    "train.describe()"
   ]
  },
  {
   "cell_type": "code",
   "execution_count": 4,
   "id": "accompanied-fields",
   "metadata": {
    "execution": {
     "iopub.execute_input": "2021-07-12T14:26:30.114589Z",
     "iopub.status.busy": "2021-07-12T14:26:30.109539Z",
     "iopub.status.idle": "2021-07-12T14:26:30.143941Z",
     "shell.execute_reply": "2021-07-12T14:26:30.144731Z",
     "shell.execute_reply.started": "2021-07-12T10:39:50.078423Z"
    },
    "papermill": {
     "duration": 0.111286,
     "end_time": "2021-07-12T14:26:30.145001",
     "exception": false,
     "start_time": "2021-07-12T14:26:30.033715",
     "status": "completed"
    },
    "tags": []
   },
   "outputs": [
    {
     "name": "stdout",
     "output_type": "stream",
     "text": [
      "<class 'pandas.core.frame.DataFrame'>\n",
      "RangeIndex: 42000 entries, 0 to 41999\n",
      "Columns: 785 entries, label to pixel783\n",
      "dtypes: int64(785)\n",
      "memory usage: 251.5 MB\n"
     ]
    }
   ],
   "source": [
    "train.info()"
   ]
  },
  {
   "cell_type": "code",
   "execution_count": 5,
   "id": "solar-brisbane",
   "metadata": {
    "execution": {
     "iopub.execute_input": "2021-07-12T14:26:30.265372Z",
     "iopub.status.busy": "2021-07-12T14:26:30.264281Z",
     "iopub.status.idle": "2021-07-12T14:26:30.290001Z",
     "shell.execute_reply": "2021-07-12T14:26:30.289292Z",
     "shell.execute_reply.started": "2021-07-12T10:39:50.135888Z"
    },
    "papermill": {
     "duration": 0.087465,
     "end_time": "2021-07-12T14:26:30.290144",
     "exception": false,
     "start_time": "2021-07-12T14:26:30.202679",
     "status": "completed"
    },
    "tags": []
   },
   "outputs": [
    {
     "data": {
      "text/html": [
       "<div>\n",
       "<style scoped>\n",
       "    .dataframe tbody tr th:only-of-type {\n",
       "        vertical-align: middle;\n",
       "    }\n",
       "\n",
       "    .dataframe tbody tr th {\n",
       "        vertical-align: top;\n",
       "    }\n",
       "\n",
       "    .dataframe thead th {\n",
       "        text-align: right;\n",
       "    }\n",
       "</style>\n",
       "<table border=\"1\" class=\"dataframe\">\n",
       "  <thead>\n",
       "    <tr style=\"text-align: right;\">\n",
       "      <th></th>\n",
       "      <th>label</th>\n",
       "      <th>pixel0</th>\n",
       "      <th>pixel1</th>\n",
       "      <th>pixel2</th>\n",
       "      <th>pixel3</th>\n",
       "      <th>pixel4</th>\n",
       "      <th>pixel5</th>\n",
       "      <th>pixel6</th>\n",
       "      <th>pixel7</th>\n",
       "      <th>pixel8</th>\n",
       "      <th>...</th>\n",
       "      <th>pixel774</th>\n",
       "      <th>pixel775</th>\n",
       "      <th>pixel776</th>\n",
       "      <th>pixel777</th>\n",
       "      <th>pixel778</th>\n",
       "      <th>pixel779</th>\n",
       "      <th>pixel780</th>\n",
       "      <th>pixel781</th>\n",
       "      <th>pixel782</th>\n",
       "      <th>pixel783</th>\n",
       "    </tr>\n",
       "  </thead>\n",
       "  <tbody>\n",
       "    <tr>\n",
       "      <th>0</th>\n",
       "      <td>1</td>\n",
       "      <td>0</td>\n",
       "      <td>0</td>\n",
       "      <td>0</td>\n",
       "      <td>0</td>\n",
       "      <td>0</td>\n",
       "      <td>0</td>\n",
       "      <td>0</td>\n",
       "      <td>0</td>\n",
       "      <td>0</td>\n",
       "      <td>...</td>\n",
       "      <td>0</td>\n",
       "      <td>0</td>\n",
       "      <td>0</td>\n",
       "      <td>0</td>\n",
       "      <td>0</td>\n",
       "      <td>0</td>\n",
       "      <td>0</td>\n",
       "      <td>0</td>\n",
       "      <td>0</td>\n",
       "      <td>0</td>\n",
       "    </tr>\n",
       "    <tr>\n",
       "      <th>1</th>\n",
       "      <td>0</td>\n",
       "      <td>0</td>\n",
       "      <td>0</td>\n",
       "      <td>0</td>\n",
       "      <td>0</td>\n",
       "      <td>0</td>\n",
       "      <td>0</td>\n",
       "      <td>0</td>\n",
       "      <td>0</td>\n",
       "      <td>0</td>\n",
       "      <td>...</td>\n",
       "      <td>0</td>\n",
       "      <td>0</td>\n",
       "      <td>0</td>\n",
       "      <td>0</td>\n",
       "      <td>0</td>\n",
       "      <td>0</td>\n",
       "      <td>0</td>\n",
       "      <td>0</td>\n",
       "      <td>0</td>\n",
       "      <td>0</td>\n",
       "    </tr>\n",
       "    <tr>\n",
       "      <th>2</th>\n",
       "      <td>1</td>\n",
       "      <td>0</td>\n",
       "      <td>0</td>\n",
       "      <td>0</td>\n",
       "      <td>0</td>\n",
       "      <td>0</td>\n",
       "      <td>0</td>\n",
       "      <td>0</td>\n",
       "      <td>0</td>\n",
       "      <td>0</td>\n",
       "      <td>...</td>\n",
       "      <td>0</td>\n",
       "      <td>0</td>\n",
       "      <td>0</td>\n",
       "      <td>0</td>\n",
       "      <td>0</td>\n",
       "      <td>0</td>\n",
       "      <td>0</td>\n",
       "      <td>0</td>\n",
       "      <td>0</td>\n",
       "      <td>0</td>\n",
       "    </tr>\n",
       "    <tr>\n",
       "      <th>3</th>\n",
       "      <td>4</td>\n",
       "      <td>0</td>\n",
       "      <td>0</td>\n",
       "      <td>0</td>\n",
       "      <td>0</td>\n",
       "      <td>0</td>\n",
       "      <td>0</td>\n",
       "      <td>0</td>\n",
       "      <td>0</td>\n",
       "      <td>0</td>\n",
       "      <td>...</td>\n",
       "      <td>0</td>\n",
       "      <td>0</td>\n",
       "      <td>0</td>\n",
       "      <td>0</td>\n",
       "      <td>0</td>\n",
       "      <td>0</td>\n",
       "      <td>0</td>\n",
       "      <td>0</td>\n",
       "      <td>0</td>\n",
       "      <td>0</td>\n",
       "    </tr>\n",
       "    <tr>\n",
       "      <th>4</th>\n",
       "      <td>0</td>\n",
       "      <td>0</td>\n",
       "      <td>0</td>\n",
       "      <td>0</td>\n",
       "      <td>0</td>\n",
       "      <td>0</td>\n",
       "      <td>0</td>\n",
       "      <td>0</td>\n",
       "      <td>0</td>\n",
       "      <td>0</td>\n",
       "      <td>...</td>\n",
       "      <td>0</td>\n",
       "      <td>0</td>\n",
       "      <td>0</td>\n",
       "      <td>0</td>\n",
       "      <td>0</td>\n",
       "      <td>0</td>\n",
       "      <td>0</td>\n",
       "      <td>0</td>\n",
       "      <td>0</td>\n",
       "      <td>0</td>\n",
       "    </tr>\n",
       "    <tr>\n",
       "      <th>...</th>\n",
       "      <td>...</td>\n",
       "      <td>...</td>\n",
       "      <td>...</td>\n",
       "      <td>...</td>\n",
       "      <td>...</td>\n",
       "      <td>...</td>\n",
       "      <td>...</td>\n",
       "      <td>...</td>\n",
       "      <td>...</td>\n",
       "      <td>...</td>\n",
       "      <td>...</td>\n",
       "      <td>...</td>\n",
       "      <td>...</td>\n",
       "      <td>...</td>\n",
       "      <td>...</td>\n",
       "      <td>...</td>\n",
       "      <td>...</td>\n",
       "      <td>...</td>\n",
       "      <td>...</td>\n",
       "      <td>...</td>\n",
       "      <td>...</td>\n",
       "    </tr>\n",
       "    <tr>\n",
       "      <th>41995</th>\n",
       "      <td>0</td>\n",
       "      <td>0</td>\n",
       "      <td>0</td>\n",
       "      <td>0</td>\n",
       "      <td>0</td>\n",
       "      <td>0</td>\n",
       "      <td>0</td>\n",
       "      <td>0</td>\n",
       "      <td>0</td>\n",
       "      <td>0</td>\n",
       "      <td>...</td>\n",
       "      <td>0</td>\n",
       "      <td>0</td>\n",
       "      <td>0</td>\n",
       "      <td>0</td>\n",
       "      <td>0</td>\n",
       "      <td>0</td>\n",
       "      <td>0</td>\n",
       "      <td>0</td>\n",
       "      <td>0</td>\n",
       "      <td>0</td>\n",
       "    </tr>\n",
       "    <tr>\n",
       "      <th>41996</th>\n",
       "      <td>1</td>\n",
       "      <td>0</td>\n",
       "      <td>0</td>\n",
       "      <td>0</td>\n",
       "      <td>0</td>\n",
       "      <td>0</td>\n",
       "      <td>0</td>\n",
       "      <td>0</td>\n",
       "      <td>0</td>\n",
       "      <td>0</td>\n",
       "      <td>...</td>\n",
       "      <td>0</td>\n",
       "      <td>0</td>\n",
       "      <td>0</td>\n",
       "      <td>0</td>\n",
       "      <td>0</td>\n",
       "      <td>0</td>\n",
       "      <td>0</td>\n",
       "      <td>0</td>\n",
       "      <td>0</td>\n",
       "      <td>0</td>\n",
       "    </tr>\n",
       "    <tr>\n",
       "      <th>41997</th>\n",
       "      <td>7</td>\n",
       "      <td>0</td>\n",
       "      <td>0</td>\n",
       "      <td>0</td>\n",
       "      <td>0</td>\n",
       "      <td>0</td>\n",
       "      <td>0</td>\n",
       "      <td>0</td>\n",
       "      <td>0</td>\n",
       "      <td>0</td>\n",
       "      <td>...</td>\n",
       "      <td>0</td>\n",
       "      <td>0</td>\n",
       "      <td>0</td>\n",
       "      <td>0</td>\n",
       "      <td>0</td>\n",
       "      <td>0</td>\n",
       "      <td>0</td>\n",
       "      <td>0</td>\n",
       "      <td>0</td>\n",
       "      <td>0</td>\n",
       "    </tr>\n",
       "    <tr>\n",
       "      <th>41998</th>\n",
       "      <td>6</td>\n",
       "      <td>0</td>\n",
       "      <td>0</td>\n",
       "      <td>0</td>\n",
       "      <td>0</td>\n",
       "      <td>0</td>\n",
       "      <td>0</td>\n",
       "      <td>0</td>\n",
       "      <td>0</td>\n",
       "      <td>0</td>\n",
       "      <td>...</td>\n",
       "      <td>0</td>\n",
       "      <td>0</td>\n",
       "      <td>0</td>\n",
       "      <td>0</td>\n",
       "      <td>0</td>\n",
       "      <td>0</td>\n",
       "      <td>0</td>\n",
       "      <td>0</td>\n",
       "      <td>0</td>\n",
       "      <td>0</td>\n",
       "    </tr>\n",
       "    <tr>\n",
       "      <th>41999</th>\n",
       "      <td>9</td>\n",
       "      <td>0</td>\n",
       "      <td>0</td>\n",
       "      <td>0</td>\n",
       "      <td>0</td>\n",
       "      <td>0</td>\n",
       "      <td>0</td>\n",
       "      <td>0</td>\n",
       "      <td>0</td>\n",
       "      <td>0</td>\n",
       "      <td>...</td>\n",
       "      <td>0</td>\n",
       "      <td>0</td>\n",
       "      <td>0</td>\n",
       "      <td>0</td>\n",
       "      <td>0</td>\n",
       "      <td>0</td>\n",
       "      <td>0</td>\n",
       "      <td>0</td>\n",
       "      <td>0</td>\n",
       "      <td>0</td>\n",
       "    </tr>\n",
       "  </tbody>\n",
       "</table>\n",
       "<p>42000 rows × 785 columns</p>\n",
       "</div>"
      ],
      "text/plain": [
       "       label  pixel0  pixel1  pixel2  pixel3  pixel4  pixel5  pixel6  pixel7  \\\n",
       "0          1       0       0       0       0       0       0       0       0   \n",
       "1          0       0       0       0       0       0       0       0       0   \n",
       "2          1       0       0       0       0       0       0       0       0   \n",
       "3          4       0       0       0       0       0       0       0       0   \n",
       "4          0       0       0       0       0       0       0       0       0   \n",
       "...      ...     ...     ...     ...     ...     ...     ...     ...     ...   \n",
       "41995      0       0       0       0       0       0       0       0       0   \n",
       "41996      1       0       0       0       0       0       0       0       0   \n",
       "41997      7       0       0       0       0       0       0       0       0   \n",
       "41998      6       0       0       0       0       0       0       0       0   \n",
       "41999      9       0       0       0       0       0       0       0       0   \n",
       "\n",
       "       pixel8  ...  pixel774  pixel775  pixel776  pixel777  pixel778  \\\n",
       "0           0  ...         0         0         0         0         0   \n",
       "1           0  ...         0         0         0         0         0   \n",
       "2           0  ...         0         0         0         0         0   \n",
       "3           0  ...         0         0         0         0         0   \n",
       "4           0  ...         0         0         0         0         0   \n",
       "...       ...  ...       ...       ...       ...       ...       ...   \n",
       "41995       0  ...         0         0         0         0         0   \n",
       "41996       0  ...         0         0         0         0         0   \n",
       "41997       0  ...         0         0         0         0         0   \n",
       "41998       0  ...         0         0         0         0         0   \n",
       "41999       0  ...         0         0         0         0         0   \n",
       "\n",
       "       pixel779  pixel780  pixel781  pixel782  pixel783  \n",
       "0             0         0         0         0         0  \n",
       "1             0         0         0         0         0  \n",
       "2             0         0         0         0         0  \n",
       "3             0         0         0         0         0  \n",
       "4             0         0         0         0         0  \n",
       "...         ...       ...       ...       ...       ...  \n",
       "41995         0         0         0         0         0  \n",
       "41996         0         0         0         0         0  \n",
       "41997         0         0         0         0         0  \n",
       "41998         0         0         0         0         0  \n",
       "41999         0         0         0         0         0  \n",
       "\n",
       "[42000 rows x 785 columns]"
      ]
     },
     "execution_count": 5,
     "metadata": {},
     "output_type": "execute_result"
    }
   ],
   "source": [
    "train"
   ]
  },
  {
   "cell_type": "markdown",
   "id": "furnished-somerset",
   "metadata": {
    "papermill": {
     "duration": 0.057326,
     "end_time": "2021-07-12T14:26:30.404921",
     "exception": false,
     "start_time": "2021-07-12T14:26:30.347595",
     "status": "completed"
    },
    "tags": []
   },
   "source": [
    "# Discover and Visualize the Data"
   ]
  },
  {
   "cell_type": "code",
   "execution_count": 6,
   "id": "political-farming",
   "metadata": {
    "execution": {
     "iopub.execute_input": "2021-07-12T14:26:30.526970Z",
     "iopub.status.busy": "2021-07-12T14:26:30.525171Z",
     "iopub.status.idle": "2021-07-12T14:26:30.629099Z",
     "shell.execute_reply": "2021-07-12T14:26:30.628505Z",
     "shell.execute_reply.started": "2021-07-12T10:39:50.170593Z"
    },
    "papermill": {
     "duration": 0.166217,
     "end_time": "2021-07-12T14:26:30.629263",
     "exception": false,
     "start_time": "2021-07-12T14:26:30.463046",
     "status": "completed"
    },
    "tags": []
   },
   "outputs": [],
   "source": [
    "train_copy = train.copy()"
   ]
  },
  {
   "cell_type": "code",
   "execution_count": 7,
   "id": "located-armor",
   "metadata": {
    "execution": {
     "iopub.execute_input": "2021-07-12T14:26:30.857903Z",
     "iopub.status.busy": "2021-07-12T14:26:30.857078Z",
     "iopub.status.idle": "2021-07-12T14:26:30.860882Z",
     "shell.execute_reply": "2021-07-12T14:26:30.860297Z",
     "shell.execute_reply.started": "2021-07-12T10:39:50.275398Z"
    },
    "papermill": {
     "duration": 0.174625,
     "end_time": "2021-07-12T14:26:30.861026",
     "exception": false,
     "start_time": "2021-07-12T14:26:30.686401",
     "status": "completed"
    },
    "tags": []
   },
   "outputs": [],
   "source": [
    "# separating labels from features\n",
    "mnist_features = train_copy.drop('label', axis=1)\n",
    "mnist_labels = train_copy['label']"
   ]
  },
  {
   "cell_type": "code",
   "execution_count": 8,
   "id": "acquired-testimony",
   "metadata": {
    "execution": {
     "iopub.execute_input": "2021-07-12T14:26:30.996660Z",
     "iopub.status.busy": "2021-07-12T14:26:30.995986Z",
     "iopub.status.idle": "2021-07-12T14:26:31.066174Z",
     "shell.execute_reply": "2021-07-12T14:26:31.066732Z",
     "shell.execute_reply.started": "2021-07-12T10:39:50.387572Z"
    },
    "papermill": {
     "duration": 0.14886,
     "end_time": "2021-07-12T14:26:31.066916",
     "exception": false,
     "start_time": "2021-07-12T14:26:30.918056",
     "status": "completed"
    },
    "tags": []
   },
   "outputs": [
    {
     "data": {
      "image/png": "[encoded data removed]",
      "text/plain": [
       "<Figure size 432x288 with 1 Axes>"
      ]
     },
     "metadata": {
      "needs_background": "light"
     },
     "output_type": "display_data"
    }
   ],
   "source": [
    "plt.imshow(np.asfarray(mnist_features[4:5]).reshape(28,28), cmap='binary')\n",
    "plt.axis(\"off\")\n",
    "plt.show()"
   ]
  },
  {
   "cell_type": "code",
   "execution_count": 9,
   "id": "realistic-speed",
   "metadata": {
    "execution": {
     "iopub.execute_input": "2021-07-12T14:26:31.190376Z",
     "iopub.status.busy": "2021-07-12T14:26:31.189636Z",
     "iopub.status.idle": "2021-07-12T14:26:31.197828Z",
     "shell.execute_reply": "2021-07-12T14:26:31.198431Z",
     "shell.execute_reply.started": "2021-07-12T10:39:50.484139Z"
    },
    "papermill": {
     "duration": 0.073548,
     "end_time": "2021-07-12T14:26:31.198610",
     "exception": false,
     "start_time": "2021-07-12T14:26:31.125062",
     "status": "completed"
    },
    "tags": []
   },
   "outputs": [],
   "source": [
    "def print_digits(digit_dataframe):\n",
    "    figsize = (8,6)\n",
    "    cols = 4\n",
    "    rows = 6 // cols +1 \n",
    "\n",
    "    def trim_axs(axs, N):\n",
    "        \"\"\"\n",
    "        Reduce *axs* to *N* Axes. All further Axes are removed from the figure.\n",
    "        \"\"\"\n",
    "        axs = axs.flat\n",
    "        for ax in axs[N:]:\n",
    "            ax.remove()\n",
    "        return axs[:N]\n",
    "\n",
    "\n",
    "    axs = plt.figure(figsize=figsize).subplots(rows, cols)\n",
    "    axs = trim_axs(axs, len(digit_dataframe))\n",
    "\n",
    "    i = 0\n",
    "\n",
    "    for ax in axs:\n",
    "        ax.imshow((np.asfarray(digit_dataframe.iloc[i]).reshape(28,28)),cmap='binary')\n",
    "        ax.set_xticklabels([])\n",
    "        ax.set_yticklabels([])\n",
    "        i = i + 1\n"
   ]
  },
  {
   "cell_type": "code",
   "execution_count": 10,
   "id": "matched-upper",
   "metadata": {
    "execution": {
     "iopub.execute_input": "2021-07-12T14:26:31.317739Z",
     "iopub.status.busy": "2021-07-12T14:26:31.316736Z",
     "iopub.status.idle": "2021-07-12T14:26:31.959976Z",
     "shell.execute_reply": "2021-07-12T14:26:31.960450Z",
     "shell.execute_reply.started": "2021-07-12T10:39:50.494544Z"
    },
    "papermill": {
     "duration": 0.704271,
     "end_time": "2021-07-12T14:26:31.960640",
     "exception": false,
     "start_time": "2021-07-12T14:26:31.256369",
     "status": "completed"
    },
    "tags": []
   },
   "outputs": [
    {
     "data": {
      "image/png": "[encoded data removed]",
      "text/plain": [
       "<Figure size 576x432 with 8 Axes>"
      ]
     },
     "metadata": {
      "needs_background": "light"
     },
     "output_type": "display_data"
    }
   ],
   "source": [
    "print_digits(mnist_features)"
   ]
  },
  {
   "cell_type": "markdown",
   "id": "approved-vacuum",
   "metadata": {
    "papermill": {
     "duration": 0.058627,
     "end_time": "2021-07-12T14:26:32.080060",
     "exception": false,
     "start_time": "2021-07-12T14:26:32.021433",
     "status": "completed"
    },
    "tags": []
   },
   "source": [
    "## Correlation Matrix"
   ]
  },
  {
   "cell_type": "code",
   "execution_count": 11,
   "id": "hungarian-class",
   "metadata": {
    "execution": {
     "iopub.execute_input": "2021-07-12T14:26:32.209814Z",
     "iopub.status.busy": "2021-07-12T14:26:32.208333Z",
     "iopub.status.idle": "2021-07-12T14:27:41.798476Z",
     "shell.execute_reply": "2021-07-12T14:27:41.799015Z",
     "shell.execute_reply.started": "2021-07-12T10:39:51.229201Z"
    },
    "papermill": {
     "duration": 69.66034,
     "end_time": "2021-07-12T14:27:41.799248",
     "exception": false,
     "start_time": "2021-07-12T14:26:32.138908",
     "status": "completed"
    },
    "tags": []
   },
   "outputs": [],
   "source": [
    "corr_matrix = train_copy.corr()"
   ]
  },
  {
   "cell_type": "code",
   "execution_count": 12,
   "id": "hidden-thing",
   "metadata": {
    "execution": {
     "iopub.execute_input": "2021-07-12T14:27:41.920000Z",
     "iopub.status.busy": "2021-07-12T14:27:41.919357Z",
     "iopub.status.idle": "2021-07-12T14:27:41.930465Z",
     "shell.execute_reply": "2021-07-12T14:27:41.929906Z",
     "shell.execute_reply.started": "2021-07-12T10:41:00.632652Z"
    },
    "papermill": {
     "duration": 0.071942,
     "end_time": "2021-07-12T14:27:41.930605",
     "exception": false,
     "start_time": "2021-07-12T14:27:41.858663",
     "status": "completed"
    },
    "tags": []
   },
   "outputs": [
    {
     "data": {
      "text/plain": [
       "label       1.000000\n",
       "pixel381    0.431506\n",
       "pixel409    0.423767\n",
       "pixel436    0.420922\n",
       "pixel408    0.413855\n",
       "              ...   \n",
       "pixel760         NaN\n",
       "pixel780         NaN\n",
       "pixel781         NaN\n",
       "pixel782         NaN\n",
       "pixel783         NaN\n",
       "Name: label, Length: 785, dtype: float64"
      ]
     },
     "execution_count": 12,
     "metadata": {},
     "output_type": "execute_result"
    }
   ],
   "source": [
    "corr_matrix['label'].sort_values(ascending=False)"
   ]
  },
  {
   "cell_type": "code",
   "execution_count": 13,
   "id": "according-singapore",
   "metadata": {
    "execution": {
     "iopub.execute_input": "2021-07-12T14:27:42.056737Z",
     "iopub.status.busy": "2021-07-12T14:27:42.056017Z",
     "iopub.status.idle": "2021-07-12T14:27:45.514543Z",
     "shell.execute_reply": "2021-07-12T14:27:45.515086Z",
     "shell.execute_reply.started": "2021-07-12T10:41:00.642510Z"
    },
    "papermill": {
     "duration": 3.52093,
     "end_time": "2021-07-12T14:27:45.515283",
     "exception": false,
     "start_time": "2021-07-12T14:27:41.994353",
     "status": "completed"
    },
    "tags": []
   },
   "outputs": [
    {
     "name": "stderr",
     "output_type": "stream",
     "text": [
      "/opt/conda/lib/python3.7/site-packages/pandas/plotting/_matplotlib/tools.py:400: MatplotlibDeprecationWarning: \n",
      "The is_first_col function was deprecated in Matplotlib 3.4 and will be removed two minor releases later. Use ax.get_subplotspec().is_first_col() instead.\n",
      "  if ax.is_first_col():\n"
     ]
    },
    {
     "data": {
      "text/plain": [
       "array([[<AxesSubplot:xlabel='pixel381', ylabel='pixel381'>,\n",
       "        <AxesSubplot:xlabel='pixel409', ylabel='pixel381'>,\n",
       "        <AxesSubplot:xlabel='pixel436', ylabel='pixel381'>,\n",
       "        <AxesSubplot:xlabel='pixel408', ylabel='pixel381'>],\n",
       "       [<AxesSubplot:xlabel='pixel381', ylabel='pixel409'>,\n",
       "        <AxesSubplot:xlabel='pixel409', ylabel='pixel409'>,\n",
       "        <AxesSubplot:xlabel='pixel436', ylabel='pixel409'>,\n",
       "        <AxesSubplot:xlabel='pixel408', ylabel='pixel409'>],\n",
       "       [<AxesSubplot:xlabel='pixel381', ylabel='pixel436'>,\n",
       "        <AxesSubplot:xlabel='pixel409', ylabel='pixel436'>,\n",
       "        <AxesSubplot:xlabel='pixel436', ylabel='pixel436'>,\n",
       "        <AxesSubplot:xlabel='pixel408', ylabel='pixel436'>],\n",
       "       [<AxesSubplot:xlabel='pixel381', ylabel='pixel408'>,\n",
       "        <AxesSubplot:xlabel='pixel409', ylabel='pixel408'>,\n",
       "        <AxesSubplot:xlabel='pixel436', ylabel='pixel408'>,\n",
       "        <AxesSubplot:xlabel='pixel408', ylabel='pixel408'>]], dtype=object)"
      ]
     },
     "execution_count": 13,
     "metadata": {},
     "output_type": "execute_result"
    },
    {
     "data": {
      "image/png": "[encoded data removed]",
      "text/plain": [
       "<Figure size 576x432 with 16 Axes>"
      ]
     },
     "metadata": {
      "needs_background": "light"
     },
     "output_type": "display_data"
    }
   ],
   "source": [
    "attributes = ['pixel381','pixel409','pixel436','pixel408']\n",
    "\n",
    "pd.plotting.scatter_matrix(train_copy[attributes], figsize=(8,6))"
   ]
  },
  {
   "cell_type": "markdown",
   "id": "imposed-finnish",
   "metadata": {
    "papermill": {
     "duration": 0.066706,
     "end_time": "2021-07-12T14:27:45.647071",
     "exception": false,
     "start_time": "2021-07-12T14:27:45.580365",
     "status": "completed"
    },
    "tags": []
   },
   "source": [
    "# Prepare Data for Algorithm\n",
    "- Write functions to build transformation pipelines\n",
    "- Scaling features (normalization)"
   ]
  },
  {
   "cell_type": "code",
   "execution_count": 14,
   "id": "aerial-macro",
   "metadata": {
    "execution": {
     "iopub.execute_input": "2021-07-12T14:27:45.782512Z",
     "iopub.status.busy": "2021-07-12T14:27:45.781832Z",
     "iopub.status.idle": "2021-07-12T14:27:46.419317Z",
     "shell.execute_reply": "2021-07-12T14:27:46.419854Z",
     "shell.execute_reply.started": "2021-07-12T10:41:03.910780Z"
    },
    "papermill": {
     "duration": 0.70782,
     "end_time": "2021-07-12T14:27:46.420059",
     "exception": false,
     "start_time": "2021-07-12T14:27:45.712239",
     "status": "completed"
    },
    "tags": []
   },
   "outputs": [],
   "source": [
    "from sklearn.pipeline import Pipeline\n",
    "from sklearn.preprocessing import StandardScaler\n",
    "from sklearn.cluster import KMeans\n",
    "\n",
    "# Pipeline for transforming / scaling the data in various ways\n",
    "num_pipeline = Pipeline([\n",
    "    ('std_scaler', StandardScaler())\n",
    "])"
   ]
  },
  {
   "cell_type": "markdown",
   "id": "banner-surveillance",
   "metadata": {
    "papermill": {
     "duration": 0.065601,
     "end_time": "2021-07-12T14:27:46.551544",
     "exception": false,
     "start_time": "2021-07-12T14:27:46.485943",
     "status": "completed"
    },
    "tags": []
   },
   "source": [
    "### Pipelines\r\n",
    "Fit the pipeline on training data only and then transform it based on the fitted pipeline."
   ]
  },
  {
   "cell_type": "code",
   "execution_count": 15,
   "id": "voluntary-lingerie",
   "metadata": {
    "execution": {
     "iopub.execute_input": "2021-07-12T14:27:46.688065Z",
     "iopub.status.busy": "2021-07-12T14:27:46.687293Z",
     "iopub.status.idle": "2021-07-12T14:27:47.539893Z",
     "shell.execute_reply": "2021-07-12T14:27:47.540392Z",
     "shell.execute_reply.started": "2021-07-12T10:41:04.549403Z"
    },
    "papermill": {
     "duration": 0.923601,
     "end_time": "2021-07-12T14:27:47.540587",
     "exception": false,
     "start_time": "2021-07-12T14:27:46.616986",
     "status": "completed"
    },
    "tags": []
   },
   "outputs": [
    {
     "data": {
      "text/plain": [
       "array([[0., 0., 0., ..., 0., 0., 0.],\n",
       "       [0., 0., 0., ..., 0., 0., 0.],\n",
       "       [0., 0., 0., ..., 0., 0., 0.],\n",
       "       ...,\n",
       "       [0., 0., 0., ..., 0., 0., 0.],\n",
       "       [0., 0., 0., ..., 0., 0., 0.],\n",
       "       [0., 0., 0., ..., 0., 0., 0.]])"
      ]
     },
     "execution_count": 15,
     "metadata": {},
     "output_type": "execute_result"
    }
   ],
   "source": [
    "mnist_features_prepared = num_pipeline.fit_transform(mnist_features)\r\n",
    "mnist_features_prepared"
   ]
  },
  {
   "cell_type": "markdown",
   "id": "deadly-commission",
   "metadata": {
    "papermill": {
     "duration": 0.068397,
     "end_time": "2021-07-12T14:27:47.676574",
     "exception": false,
     "start_time": "2021-07-12T14:27:47.608177",
     "status": "completed"
    },
    "tags": []
   },
   "source": [
    "# Choose a Model"
   ]
  },
  {
   "cell_type": "code",
   "execution_count": 16,
   "id": "guided-anxiety",
   "metadata": {
    "execution": {
     "iopub.execute_input": "2021-07-12T14:27:47.813462Z",
     "iopub.status.busy": "2021-07-12T14:27:47.812683Z",
     "iopub.status.idle": "2021-07-12T14:27:47.851574Z",
     "shell.execute_reply": "2021-07-12T14:27:47.852178Z",
     "shell.execute_reply.started": "2021-07-12T10:41:05.370995Z"
    },
    "papermill": {
     "duration": 0.10877,
     "end_time": "2021-07-12T14:27:47.852376",
     "exception": false,
     "start_time": "2021-07-12T14:27:47.743606",
     "status": "completed"
    },
    "tags": []
   },
   "outputs": [
    {
     "data": {
      "text/plain": [
       "KNeighborsClassifier()"
      ]
     },
     "execution_count": 16,
     "metadata": {},
     "output_type": "execute_result"
    }
   ],
   "source": [
    "from sklearn.neighbors import KNeighborsClassifier\n",
    "\n",
    "# Train classifier with prepared train set\n",
    "kneighbors = KNeighborsClassifier()\n",
    "kneighbors.fit(mnist_features_prepared, mnist_labels)"
   ]
  },
  {
   "cell_type": "markdown",
   "id": "designed-milwaukee",
   "metadata": {
    "papermill": {
     "duration": 0.082406,
     "end_time": "2021-07-12T14:27:48.011627",
     "exception": false,
     "start_time": "2021-07-12T14:27:47.929221",
     "status": "completed"
    },
    "tags": []
   },
   "source": [
    "### First Test  \r\n",
    "Using some (original) train data for tests. I need to transform them again (with the pipeline) because I selected them from the original unmodified train set. This is the best way to do it instead of using the same data object which has already been trained with the model."
   ]
  },
  {
   "cell_type": "code",
   "execution_count": 17,
   "id": "micro-namibia",
   "metadata": {
    "execution": {
     "iopub.execute_input": "2021-07-12T14:27:48.169410Z",
     "iopub.status.busy": "2021-07-12T14:27:48.168373Z",
     "iopub.status.idle": "2021-07-12T14:27:48.182413Z",
     "shell.execute_reply": "2021-07-12T14:27:48.183310Z",
     "shell.execute_reply.started": "2021-07-12T10:41:05.409374Z"
    },
    "papermill": {
     "duration": 0.099911,
     "end_time": "2021-07-12T14:27:48.183573",
     "exception": false,
     "start_time": "2021-07-12T14:27:48.083662",
     "status": "completed"
    },
    "tags": []
   },
   "outputs": [],
   "source": [
    "some_digits = mnist_features[:8]\r\n",
    "some_digits_labels = mnist_labels[:8]\r\n",
    "\r\n",
    "some_digits_prepared = num_pipeline.transform(some_digits)"
   ]
  },
  {
   "cell_type": "code",
   "execution_count": 18,
   "id": "advance-house",
   "metadata": {
    "execution": {
     "iopub.execute_input": "2021-07-12T14:27:48.337088Z",
     "iopub.status.busy": "2021-07-12T14:27:48.336036Z",
     "iopub.status.idle": "2021-07-12T14:27:48.556124Z",
     "shell.execute_reply": "2021-07-12T14:27:48.557100Z",
     "shell.execute_reply.started": "2021-07-12T10:41:05.425478Z"
    },
    "papermill": {
     "duration": 0.294218,
     "end_time": "2021-07-12T14:27:48.557357",
     "exception": false,
     "start_time": "2021-07-12T14:27:48.263139",
     "status": "completed"
    },
    "tags": []
   },
   "outputs": [
    {
     "name": "stdout",
     "output_type": "stream",
     "text": [
      "Following were predicted:  [1 0 1 4 0 0 7 3]\n",
      "The labels:  [1, 0, 1, 4, 0, 0, 7, 3]\n"
     ]
    }
   ],
   "source": [
    "# Test the new classifier\n",
    "print(\"Following were predicted: \", kneighbors.predict(some_digits_prepared))\n",
    "print(\"The labels: \", list(some_digits_labels))"
   ]
  },
  {
   "cell_type": "code",
   "execution_count": 19,
   "id": "charged-individual",
   "metadata": {
    "execution": {
     "iopub.execute_input": "2021-07-12T14:27:48.795402Z",
     "iopub.status.busy": "2021-07-12T14:27:48.790949Z",
     "iopub.status.idle": "2021-07-12T14:27:49.562723Z",
     "shell.execute_reply": "2021-07-12T14:27:49.562010Z",
     "shell.execute_reply.started": "2021-07-12T10:41:05.574775Z"
    },
    "papermill": {
     "duration": 0.863145,
     "end_time": "2021-07-12T14:27:49.562870",
     "exception": false,
     "start_time": "2021-07-12T14:27:48.699725",
     "status": "completed"
    },
    "tags": []
   },
   "outputs": [
    {
     "data": {
      "image/png": "[encoded data removed]",
      "text/plain": [
       "<Figure size 576x432 with 8 Axes>"
      ]
     },
     "metadata": {
      "needs_background": "light"
     },
     "output_type": "display_data"
    }
   ],
   "source": [
    "print_digits(some_digits)"
   ]
  },
  {
   "cell_type": "markdown",
   "id": "statewide-ranch",
   "metadata": {
    "papermill": {
     "duration": 0.06949,
     "end_time": "2021-07-12T14:27:49.700144",
     "exception": false,
     "start_time": "2021-07-12T14:27:49.630654",
     "status": "completed"
    },
    "tags": []
   },
   "source": [
    "## Accuracy with Cross Validation and Confusion Matrix (Very important within Classification Problems)"
   ]
  },
  {
   "cell_type": "code",
   "execution_count": 20,
   "id": "fewer-commodity",
   "metadata": {
    "execution": {
     "iopub.execute_input": "2021-07-12T14:27:49.840967Z",
     "iopub.status.busy": "2021-07-12T14:27:49.839947Z",
     "iopub.status.idle": "2021-07-12T14:28:32.868232Z",
     "shell.execute_reply": "2021-07-12T14:28:32.868789Z",
     "shell.execute_reply.started": "2021-07-12T10:41:06.360712Z"
    },
    "papermill": {
     "duration": 43.101186,
     "end_time": "2021-07-12T14:28:32.868994",
     "exception": false,
     "start_time": "2021-07-12T14:27:49.767808",
     "status": "completed"
    },
    "tags": []
   },
   "outputs": [],
   "source": [
    "from sklearn.model_selection import cross_val_predict\n",
    "\n",
    "mnist_label_preds = cross_val_predict(KNeighborsClassifier(), mnist_features_prepared, mnist_labels, cv=3, n_jobs=-1)"
   ]
  },
  {
   "cell_type": "code",
   "execution_count": 21,
   "id": "scenic-department",
   "metadata": {
    "execution": {
     "iopub.execute_input": "2021-07-12T14:28:33.010187Z",
     "iopub.status.busy": "2021-07-12T14:28:33.009450Z",
     "iopub.status.idle": "2021-07-12T14:28:33.016063Z",
     "shell.execute_reply": "2021-07-12T14:28:33.016589Z",
     "shell.execute_reply.started": "2021-07-12T10:41:50.107048Z"
    },
    "papermill": {
     "duration": 0.078145,
     "end_time": "2021-07-12T14:28:33.016792",
     "exception": false,
     "start_time": "2021-07-12T14:28:32.938647",
     "status": "completed"
    },
    "tags": []
   },
   "outputs": [
    {
     "name": "stdout",
     "output_type": "stream",
     "text": [
      "Cross Val Predict results:  [1 0 1 ... 7 6 9]\n"
     ]
    }
   ],
   "source": [
    "print(\"Cross Val Predict results: \" , mnist_label_preds)"
   ]
  },
  {
   "cell_type": "markdown",
   "id": "recognized-thousand",
   "metadata": {
    "papermill": {
     "duration": 0.067895,
     "end_time": "2021-07-12T14:28:33.152308",
     "exception": false,
     "start_time": "2021-07-12T14:28:33.084413",
     "status": "completed"
    },
    "tags": []
   },
   "source": [
    "The following Confusion Matrix prints the amount of predicted labels corresponding to their x and y coordinates. That means the 0 (at X = 0) has been labeld 4104 times with a prediction label 0 (at Y = 0). This corresponds to a correct prediction of 4103 times. The otherway around can be seen at the coordinates x=3 y=8. The digit 3 has been predicted 78 times as the digit 8 instead of the digit 3. The color highlighting of the Confusion Matrix does show this very good."
   ]
  },
  {
   "cell_type": "code",
   "execution_count": 22,
   "id": "certain-cocktail",
   "metadata": {
    "execution": {
     "iopub.execute_input": "2021-07-12T14:28:33.323991Z",
     "iopub.status.busy": "2021-07-12T14:28:33.323208Z",
     "iopub.status.idle": "2021-07-12T14:28:33.392348Z",
     "shell.execute_reply": "2021-07-12T14:28:33.392884Z",
     "shell.execute_reply.started": "2021-07-12T10:41:50.117713Z"
    },
    "papermill": {
     "duration": 0.148675,
     "end_time": "2021-07-12T14:28:33.393084",
     "exception": false,
     "start_time": "2021-07-12T14:28:33.244409",
     "status": "completed"
    },
    "tags": []
   },
   "outputs": [],
   "source": [
    "from sklearn.metrics import confusion_matrix\n",
    "\n",
    "cm = confusion_matrix(mnist_label_preds, mnist_labels)"
   ]
  },
  {
   "cell_type": "code",
   "execution_count": 23,
   "id": "functional-announcement",
   "metadata": {
    "execution": {
     "iopub.execute_input": "2021-07-12T14:28:33.531649Z",
     "iopub.status.busy": "2021-07-12T14:28:33.530950Z",
     "iopub.status.idle": "2021-07-12T14:28:34.246111Z",
     "shell.execute_reply": "2021-07-12T14:28:34.245277Z",
     "shell.execute_reply.started": "2021-07-12T10:41:50.193373Z"
    },
    "papermill": {
     "duration": 0.785476,
     "end_time": "2021-07-12T14:28:34.246285",
     "exception": false,
     "start_time": "2021-07-12T14:28:33.460809",
     "status": "completed"
    },
    "tags": []
   },
   "outputs": [
    {
     "data": {
      "text/plain": [
       "<AxesSubplot:>"
      ]
     },
     "execution_count": 23,
     "metadata": {},
     "output_type": "execute_result"
    },
    {
     "data": {
      "image/png": "[encoded data removed]",
      "text/plain": [
       "<Figure size 720x576 with 2 Axes>"
      ]
     },
     "metadata": {
      "needs_background": "light"
     },
     "output_type": "display_data"
    }
   ],
   "source": [
    "#Confusion matrix \n",
    "plt.figure(figsize = (10,8))\n",
    "sn.heatmap(cm, annot=True, vmin=0, vmax=2000)"
   ]
  },
  {
   "cell_type": "markdown",
   "id": "cheap-seven",
   "metadata": {
    "papermill": {
     "duration": 0.071863,
     "end_time": "2021-07-12T14:28:34.389945",
     "exception": false,
     "start_time": "2021-07-12T14:28:34.318082",
     "status": "completed"
    },
    "tags": []
   },
   "source": [
    "The following Confusion Matrix shows the relative error corresponding to its category. This is necessary in case of not balanced category values."
   ]
  },
  {
   "cell_type": "code",
   "execution_count": 24,
   "id": "domestic-catch",
   "metadata": {
    "execution": {
     "iopub.execute_input": "2021-07-12T14:28:34.588849Z",
     "iopub.status.busy": "2021-07-12T14:28:34.556610Z",
     "iopub.status.idle": "2021-07-12T14:28:35.277013Z",
     "shell.execute_reply": "2021-07-12T14:28:35.277539Z",
     "shell.execute_reply.started": "2021-07-12T10:41:50.895116Z"
    },
    "papermill": {
     "duration": 0.816989,
     "end_time": "2021-07-12T14:28:35.277751",
     "exception": false,
     "start_time": "2021-07-12T14:28:34.460762",
     "status": "completed"
    },
    "tags": []
   },
   "outputs": [
    {
     "data": {
      "text/plain": [
       "<AxesSubplot:>"
      ]
     },
     "execution_count": 24,
     "metadata": {},
     "output_type": "execute_result"
    },
    {
     "data": {
      "image/png": "[encoded data removed]",
      "text/plain": [
       "<Figure size 720x576 with 2 Axes>"
      ]
     },
     "metadata": {
      "needs_background": "light"
     },
     "output_type": "display_data"
    }
   ],
   "source": [
    "row_sums = cm.sum(axis=1, keepdims=True) \n",
    "norm_conf_mx = cm / row_sums # normalized confusion matrix\n",
    "\n",
    "np.fill_diagonal(norm_conf_mx, 0)\n",
    "\n",
    "plt.figure(figsize = (10,8))\n",
    "sn.heatmap(norm_conf_mx, annot=True, vmin=0, vmax=0.05)"
   ]
  },
  {
   "cell_type": "markdown",
   "id": "cognitive-helmet",
   "metadata": {
    "papermill": {
     "duration": 0.071689,
     "end_time": "2021-07-12T14:28:35.421751",
     "exception": false,
     "start_time": "2021-07-12T14:28:35.350062",
     "status": "completed"
    },
    "tags": []
   },
   "source": [
    "This Confusion Matrix shows us clearly that there is a small amout of errors in predicting the digit 4 respectively in predicting the digit 9 for the digit 4 with an error rate of 2.3%. But its only in this case, the otherway around works better. In case of the digit 9, the predictor has only an error rate of 1.1% when mistakenly predicting a 4. <br>\n",
    "<br>\n",
    "The digit 8 seems to be more often mispredicted then other digits, its visualized by the more brighter rowbased results."
   ]
  },
  {
   "cell_type": "markdown",
   "id": "smart-packaging",
   "metadata": {
    "papermill": {
     "duration": 0.073511,
     "end_time": "2021-07-12T14:28:35.567630",
     "exception": false,
     "start_time": "2021-07-12T14:28:35.494119",
     "status": "completed"
    },
    "tags": []
   },
   "source": [
    "### Precision, Recall and F1-Score"
   ]
  },
  {
   "cell_type": "code",
   "execution_count": 25,
   "id": "native-knowing",
   "metadata": {
    "execution": {
     "iopub.execute_input": "2021-07-12T14:28:35.720007Z",
     "iopub.status.busy": "2021-07-12T14:28:35.718934Z",
     "iopub.status.idle": "2021-07-12T14:28:35.801994Z",
     "shell.execute_reply": "2021-07-12T14:28:35.801372Z",
     "shell.execute_reply.started": "2021-07-12T10:41:51.626938Z"
    },
    "papermill": {
     "duration": 0.162503,
     "end_time": "2021-07-12T14:28:35.802156",
     "exception": false,
     "start_time": "2021-07-12T14:28:35.639653",
     "status": "completed"
    },
    "tags": []
   },
   "outputs": [
    {
     "name": "stdout",
     "output_type": "stream",
     "text": [
      "Precision:  0.9355462973347057\n",
      "Recall:  0.9352380952380952\n",
      "F1-Score (weighted):  0.9350145194546713\n"
     ]
    }
   ],
   "source": [
    "from sklearn.metrics import precision_score, recall_score, f1_score\n",
    "\n",
    "print(\"Precision: \",precision_score(mnist_labels, mnist_label_preds, average='weighted'))\n",
    "print(\"Recall: \",recall_score(mnist_labels, mnist_label_preds, average='weighted'))\n",
    "print(\"F1-Score (weighted): \", f1_score(mnist_labels, mnist_label_preds, average='weighted'))"
   ]
  },
  {
   "cell_type": "code",
   "execution_count": 26,
   "id": "bacterial-saint",
   "metadata": {
    "execution": {
     "iopub.execute_input": "2021-07-12T14:28:35.954981Z",
     "iopub.status.busy": "2021-07-12T14:28:35.954233Z",
     "iopub.status.idle": "2021-07-12T14:28:38.168458Z",
     "shell.execute_reply": "2021-07-12T14:28:38.168960Z",
     "shell.execute_reply.started": "2021-07-12T10:41:51.711911Z"
    },
    "papermill": {
     "duration": 2.29453,
     "end_time": "2021-07-12T14:28:38.169161",
     "exception": false,
     "start_time": "2021-07-12T14:28:35.874631",
     "status": "completed"
    },
    "tags": []
   },
   "outputs": [
    {
     "data": {
      "image/png": "[encoded data removed]",
      "text/plain": [
       "<Figure size 576x432 with 8 Axes>"
      ]
     },
     "metadata": {
      "needs_background": "light"
     },
     "output_type": "display_data"
    },
    {
     "data": {
      "image/png": "[encoded data removed]",
      "text/plain": [
       "<Figure size 576x432 with 8 Axes>"
      ]
     },
     "metadata": {
      "needs_background": "light"
     },
     "output_type": "display_data"
    },
    {
     "data": {
      "image/png": "[encoded data removed]",
      "text/plain": [
       "<Figure size 576x432 with 8 Axes>"
      ]
     },
     "metadata": {
      "needs_background": "light"
     },
     "output_type": "display_data"
    }
   ],
   "source": [
    "# show digits for 9 and 4 \n",
    "minst_9_labels_idx = mnist_labels[mnist_labels == 9].index\n",
    "mnist_9_features = mnist_features.iloc[minst_9_labels_idx]\n",
    "\n",
    "minst_4_labels_idx = mnist_labels[mnist_labels == 4].index\n",
    "mnist_4_features = mnist_features.iloc[minst_4_labels_idx]\n",
    "\n",
    "minst_5_labels_idx = mnist_labels[mnist_labels == 5].index\n",
    "mnist_5_features = mnist_features.iloc[minst_5_labels_idx]\n",
    "\n",
    "print_digits(mnist_9_features)\n",
    "print_digits(mnist_4_features)\n",
    "print_digits(mnist_5_features)"
   ]
  },
  {
   "cell_type": "markdown",
   "id": "white-spending",
   "metadata": {
    "papermill": {
     "duration": 0.075718,
     "end_time": "2021-07-12T14:28:38.320464",
     "exception": false,
     "start_time": "2021-07-12T14:28:38.244746",
     "status": "completed"
    },
    "tags": []
   },
   "source": [
    "# Refine the model\n",
    "In this part I am trying to find the best hyperparameters for the model. For this I will use the randomizedsearch and the gridsearch method. "
   ]
  },
  {
   "cell_type": "code",
   "execution_count": 27,
   "id": "certified-zealand",
   "metadata": {
    "execution": {
     "iopub.execute_input": "2021-07-12T14:28:38.479661Z",
     "iopub.status.busy": "2021-07-12T14:28:38.478971Z",
     "iopub.status.idle": "2021-07-12T14:28:38.481952Z",
     "shell.execute_reply": "2021-07-12T14:28:38.482466Z",
     "shell.execute_reply.started": "2021-07-12T10:41:53.925969Z"
    },
    "papermill": {
     "duration": 0.087051,
     "end_time": "2021-07-12T14:28:38.482670",
     "exception": false,
     "start_time": "2021-07-12T14:28:38.395619",
     "status": "completed"
    },
    "tags": []
   },
   "outputs": [
    {
     "data": {
      "text/plain": [
       "dict_keys(['algorithm', 'leaf_size', 'metric', 'metric_params', 'n_jobs', 'n_neighbors', 'p', 'weights'])"
      ]
     },
     "execution_count": 27,
     "metadata": {},
     "output_type": "execute_result"
    }
   ],
   "source": [
    "from sklearn.neighbors import KNeighborsClassifier\n",
    "\n",
    "knn_cl = KNeighborsClassifier()\n",
    "#knn_cl_grid = KNeighborsClassifier()\n",
    "knn_cl_grid_rd = KNeighborsClassifier()\n",
    "\n",
    "knn_cl.get_params().keys()     # what params to modify"
   ]
  },
  {
   "cell_type": "markdown",
   "id": "chemical-thursday",
   "metadata": {
    "papermill": {
     "duration": 0.075629,
     "end_time": "2021-07-12T14:28:38.637924",
     "exception": false,
     "start_time": "2021-07-12T14:28:38.562295",
     "status": "completed"
    },
    "tags": []
   },
   "source": [
    "## RandomizedSearchCV\r\n",
    "In the following dictionary set you will find several configurations I tried out with the randomized search to find the best parameter area for my model. It ended up in the distribution set number 9 witch gave me a smaller parameter area to take a look into. In later process of this notebook I will use this information in the GridSearch function to try out with some specific parameters (not randomized) that could probably improve my accuracy."
   ]
  },
  {
   "cell_type": "code",
   "execution_count": 28,
   "id": "assisted-thread",
   "metadata": {
    "execution": {
     "iopub.execute_input": "2021-07-12T14:28:38.794517Z",
     "iopub.status.busy": "2021-07-12T14:28:38.793465Z",
     "iopub.status.idle": "2021-07-12T15:29:38.927265Z",
     "shell.execute_reply": "2021-07-12T15:29:38.927802Z",
     "shell.execute_reply.started": "2021-07-12T10:41:53.935961Z"
    },
    "papermill": {
     "duration": 3660.212816,
     "end_time": "2021-07-12T15:29:38.928058",
     "exception": false,
     "start_time": "2021-07-12T14:28:38.715242",
     "status": "completed"
    },
    "tags": []
   },
   "outputs": [
    {
     "data": {
      "text/plain": [
       "RandomizedSearchCV(cv=3, estimator=KNeighborsClassifier(), n_iter=3, n_jobs=-1,\n",
       "                   param_distributions={'n_neighbors': range(1, 8), 'p': [1],\n",
       "                                        'weights': ['distance']},\n",
       "                   random_state=0, return_train_score=True)"
      ]
     },
     "execution_count": 28,
     "metadata": {},
     "output_type": "execute_result"
    }
   ],
   "source": [
    "# RandomizedSearch try\n",
    "from sklearn.model_selection import RandomizedSearchCV\n",
    "from sklearn.utils.fixes import loguniform\n",
    "from scipy.stats import expon\n",
    "from scipy.stats import randint\n",
    "\n",
    "# 'algorithm', 'leaf_size', 'metric', 'metric_params', 'n_jobs', 'n_neighbors', 'p', 'weights'\n",
    "\n",
    "distributions = dict(\n",
    "        leaf_size =randint(1,20)\n",
    "        ,n_neighbors = randint(1,20)\n",
    "        ,weights=['uniform','distance']\n",
    "        ,p=[1,2]\n",
    "        )\n",
    "\n",
    "distributions_set2 = dict(\n",
    "        n_neighbors = randint(1,10)\n",
    "        ,weights=['uniform','distance']\n",
    "        ,p=[1,2]\n",
    "        )\n",
    "\n",
    "distributions_set3 = dict(\n",
    "        #leaf_size =randint(1,30)\n",
    "        n_neighbors = randint(1,40) #[3,6,9,12,15,18,21] #\n",
    "        ,weights = ['distance']\n",
    "        #,p=[1]\n",
    "        )\n",
    "\n",
    "distributions_set4 = dict(\n",
    "        #leaf_size =randint(1,30)\n",
    "        n_neighbors = randint(1,40) #[3,6,9,12,15,18,21] #\n",
    "        ,weights = ['uniform','distance']\n",
    "        #,p=[1]\n",
    "        )\n",
    "\n",
    "distributions_set5 = dict(\n",
    "        leaf_size =range(1,100)\n",
    "        ,n_neighbors = range(1,100) #[3,6,9,12,15,18,21] #\n",
    "        ,weights = ['uniform','distance']\n",
    "        #,p=[1]\n",
    "        )\n",
    "\n",
    "distributions_set6 = dict(\n",
    "        leaf_size =range(1,50)\n",
    "        ,n_neighbors = range(1,50) #[3,6,9,12,15,18,21] #\n",
    "        ,weights = ['uniform','distance']\n",
    "        ,p=[1]\n",
    "        )\n",
    "\n",
    "distributions_set7 = dict(\n",
    "        leaf_size =range(1,10)\n",
    "        ,n_neighbors = range(1,10) #[3,6,9,12,15,18,21] #\n",
    "        ,weights = ['distance']\n",
    "       ## ,p=[2]\n",
    "        )\n",
    "\n",
    "distributions_set8 = dict(\n",
    "        #leaf_size =range(1,10)\n",
    "        n_neighbors = range(1,100) #[3,6,9,12,15,18,21] #\n",
    "        ,weights = ['distance']\n",
    "        ,p=[1]\n",
    "        )\n",
    "\n",
    "distributions_set9 = dict(n_neighbors = range(1,8)\n",
    "                          ,weights = ['distance']\n",
    "                          ,p=[1] \n",
    "                         )\n",
    "\n",
    "\n",
    "knn_cl_ransearch = RandomizedSearchCV(knn_cl_grid_rd, distributions_set9, n_iter=3, cv=3, random_state=0, return_train_score=True, n_jobs=-1)\n",
    "knn_cl_ransearch.fit(mnist_features_prepared, mnist_labels)"
   ]
  },
  {
   "cell_type": "code",
   "execution_count": 29,
   "id": "beneficial-collection",
   "metadata": {
    "execution": {
     "iopub.execute_input": "2021-07-12T15:29:39.087960Z",
     "iopub.status.busy": "2021-07-12T15:29:39.086978Z",
     "iopub.status.idle": "2021-07-12T15:29:39.091726Z",
     "shell.execute_reply": "2021-07-12T15:29:39.091188Z",
     "shell.execute_reply.started": "2021-07-12T10:41:53.961392Z"
    },
    "papermill": {
     "duration": 0.088577,
     "end_time": "2021-07-12T15:29:39.091868",
     "exception": false,
     "start_time": "2021-07-12T15:29:39.003291",
     "status": "completed"
    },
    "tags": []
   },
   "outputs": [
    {
     "data": {
      "text/plain": [
       "{'weights': 'distance', 'p': 1, 'n_neighbors': 3}"
      ]
     },
     "execution_count": 29,
     "metadata": {},
     "output_type": "execute_result"
    }
   ],
   "source": [
    "knn_cl_ransearch.best_params_"
   ]
  },
  {
   "cell_type": "markdown",
   "id": "experienced-reliance",
   "metadata": {
    "papermill": {
     "duration": 0.07923,
     "end_time": "2021-07-12T15:29:39.247770",
     "exception": false,
     "start_time": "2021-07-12T15:29:39.168540",
     "status": "completed"
    },
    "tags": []
   },
   "source": [
    "### Save and Load"
   ]
  },
  {
   "cell_type": "code",
   "execution_count": 30,
   "id": "tropical-weight",
   "metadata": {
    "execution": {
     "iopub.execute_input": "2021-07-12T15:29:39.402655Z",
     "iopub.status.busy": "2021-07-12T15:29:39.401724Z",
     "iopub.status.idle": "2021-07-12T15:29:39.406938Z",
     "shell.execute_reply": "2021-07-12T15:29:39.407461Z"
    },
    "papermill": {
     "duration": 0.084218,
     "end_time": "2021-07-12T15:29:39.407637",
     "exception": false,
     "start_time": "2021-07-12T15:29:39.323419",
     "status": "completed"
    },
    "tags": []
   },
   "outputs": [],
   "source": [
    "# Model load and save structure.\n",
    "import pickle\n",
    "\n",
    "knnPkl_rnn_filename = 'knnPickle_dist9_3_rans'\n",
    "\n",
    "knnPkl_dirname = '..\\Another_MNIST_try'    # local Path\n",
    "knnPkl_dirname_kgg = '../'                 # Kaggle path\n",
    "\n",
    "knnPkl_rnn_fildir = os.path.join(knnPkl_dirname_kgg, knnPkl_rnn_filename)"
   ]
  },
  {
   "cell_type": "code",
   "execution_count": 31,
   "id": "insured-beatles",
   "metadata": {
    "execution": {
     "iopub.execute_input": "2021-07-12T15:29:39.561361Z",
     "iopub.status.busy": "2021-07-12T15:29:39.560678Z",
     "iopub.status.idle": "2021-07-12T15:29:40.521095Z",
     "shell.execute_reply": "2021-07-12T15:29:40.521600Z"
    },
    "papermill": {
     "duration": 1.038965,
     "end_time": "2021-07-12T15:29:40.521842",
     "exception": false,
     "start_time": "2021-07-12T15:29:39.482877",
     "status": "completed"
    },
    "tags": []
   },
   "outputs": [],
   "source": [
    "# Save model\r",
    "#\n",
    "pickle.dump(knn_cl_ransearch, open(knnPkl_rnn_fildir, 'wb'))"
   ]
  },
  {
   "cell_type": "code",
   "execution_count": 32,
   "id": "weighted-inspector",
   "metadata": {
    "execution": {
     "iopub.execute_input": "2021-07-12T15:29:40.682741Z",
     "iopub.status.busy": "2021-07-12T15:29:40.681565Z",
     "iopub.status.idle": "2021-07-12T15:29:41.056790Z",
     "shell.execute_reply": "2021-07-12T15:29:41.057323Z"
    },
    "papermill": {
     "duration": 0.45758,
     "end_time": "2021-07-12T15:29:41.057494",
     "exception": false,
     "start_time": "2021-07-12T15:29:40.599914",
     "status": "completed"
    },
    "tags": []
   },
   "outputs": [],
   "source": [
    "# Load model\r\n",
    "knn_cl_ransearch = pickle.load(open(knnPkl_rnn_fildir, 'rb'))"
   ]
  },
  {
   "cell_type": "code",
   "execution_count": 33,
   "id": "moved-disease",
   "metadata": {
    "execution": {
     "iopub.execute_input": "2021-07-12T15:29:41.212759Z",
     "iopub.status.busy": "2021-07-12T15:29:41.212095Z",
     "iopub.status.idle": "2021-07-12T15:29:41.219021Z",
     "shell.execute_reply": "2021-07-12T15:29:41.219532Z"
    },
    "papermill": {
     "duration": 0.087138,
     "end_time": "2021-07-12T15:29:41.219728",
     "exception": false,
     "start_time": "2021-07-12T15:29:41.132590",
     "status": "completed"
    },
    "tags": []
   },
   "outputs": [
    {
     "name": "stdout",
     "output_type": "stream",
     "text": [
      "0.9518333333333334 {'weights': 'distance', 'p': 1, 'n_neighbors': 7}\n",
      "0.954047619047619 {'weights': 'distance', 'p': 1, 'n_neighbors': 3}\n",
      "0.9502857142857143 {'weights': 'distance', 'p': 1, 'n_neighbors': 2}\n"
     ]
    }
   ],
   "source": [
    "cv_results_knn_ransearch = knn_cl_ransearch.cv_results_\r\n",
    "\r\n",
    "for mean_score, params in zip(cv_results_knn_ransearch[\"mean_test_score\"],cv_results_knn_ransearch[\"params\"]):\r\n",
    "    print(mean_score, params)"
   ]
  },
  {
   "cell_type": "code",
   "execution_count": 34,
   "id": "unavailable-baptist",
   "metadata": {
    "execution": {
     "iopub.execute_input": "2021-07-12T15:29:41.375879Z",
     "iopub.status.busy": "2021-07-12T15:29:41.375154Z",
     "iopub.status.idle": "2021-07-12T15:29:41.561407Z",
     "shell.execute_reply": "2021-07-12T15:29:41.561989Z"
    },
    "papermill": {
     "duration": 0.26583,
     "end_time": "2021-07-12T15:29:41.562181",
     "exception": false,
     "start_time": "2021-07-12T15:29:41.296351",
     "status": "completed"
    },
    "tags": []
   },
   "outputs": [
    {
     "data": {
      "text/plain": [
       "[<matplotlib.lines.Line2D at 0x7f14ebbbff90>]"
      ]
     },
     "execution_count": 34,
     "metadata": {},
     "output_type": "execute_result"
    },
    {
     "data": {
      "image/png": "[encoded data removed]",
      "text/plain": [
       "<Figure size 576x864 with 1 Axes>"
      ]
     },
     "metadata": {
      "needs_background": "light"
     },
     "output_type": "display_data"
    }
   ],
   "source": [
    "fig = plt.figure(figsize=(8,12))\r\n",
    "\r\n",
    "ax = fig.add_subplot(2,1,1)\r\n",
    "\r\n",
    "ax.plot(list(range(1,len(cv_results_knn_ransearch['mean_train_score']) + 1)), cv_results_knn_ransearch['mean_train_score'])\r\n",
    "ax.plot(list(range(1,len(cv_results_knn_ransearch['mean_test_score']) + 1)), cv_results_knn_ransearch['mean_test_score'])"
   ]
  },
  {
   "cell_type": "markdown",
   "id": "chief-bangladesh",
   "metadata": {
    "papermill": {
     "duration": 0.077813,
     "end_time": "2021-07-12T15:29:41.717867",
     "exception": false,
     "start_time": "2021-07-12T15:29:41.640054",
     "status": "completed"
    },
    "tags": []
   },
   "source": [
    "## GridSearch\r\n",
    "With this GridSearch I want to look closer into specific parameters. I have already tried some different values around the n_neighbors parameter (see the other dictionary params grids (\"param_grid_try_#\") ) and took a closer look into the leaf_size which in the end turns out as a parameter that does not have any effects on the accuracy of the model with this dataset.\r\n",
    "\r\n",
    "In further processing, it turns out that there is more need to prepare the data for the KNearestNeighbor algorithm to get better accuracy. During the research, I found out that there is a way to preprocess data due to clustering with the KMeans algorithm. So I am going to use a pipeline with the KMeans as the first step for preprocessing and train the KNeighbors model with the results from the processing. It is possible to use the Gridsearch in combination with a pipeline. The parameters have to be named specifically so the Gridsearch is able to match each parameter to its corresponding function/algorithm.\r\n",
    "\r\n",
    "EDIT: While I am writing this here I had already tried several parameters with the Gridsearch approach, especially with the cluster parameter. It turns out that there is no good cluster amount to prepare the data in that way it would support the KNeighbors algorithm to increase its accuracy. I also added a calculation for the silhouette coefficient to determine the best cluster amount by using the KMeans by himself, no success! KMeans clustering or preprocessing does not support the KNeighbors algorithm with the given dataset. \r\n",
    "\r\n",
    "However, I let the code as it is to show the usage of pipelines, KMeans, and silhouette coefficient calculation for learning purposes."
   ]
  },
  {
   "cell_type": "code",
   "execution_count": 35,
   "id": "usual-balance",
   "metadata": {
    "execution": {
     "iopub.execute_input": "2021-07-12T15:29:41.883145Z",
     "iopub.status.busy": "2021-07-12T15:29:41.882106Z",
     "iopub.status.idle": "2021-07-12T15:29:41.885844Z",
     "shell.execute_reply": "2021-07-12T15:29:41.885305Z",
     "shell.execute_reply.started": "2021-07-12T10:47:18.012555Z"
    },
    "papermill": {
     "duration": 0.091041,
     "end_time": "2021-07-12T15:29:41.885996",
     "exception": false,
     "start_time": "2021-07-12T15:29:41.794955",
     "status": "completed"
    },
    "tags": []
   },
   "outputs": [],
   "source": [
    "from sklearn.pipeline import Pipeline\n",
    "from sklearn.preprocessing import StandardScaler\n",
    "from sklearn.cluster import KMeans\n",
    "\n",
    "# Pipeline for transforming / scaling the data in various ways\n",
    "prep_pipeline = Pipeline([\n",
    "    ('kmeans', KMeans()),\n",
    "    ('kneighbors', KNeighborsClassifier())\n",
    "])"
   ]
  },
  {
   "cell_type": "code",
   "execution_count": 36,
   "id": "marine-chuck",
   "metadata": {
    "execution": {
     "iopub.execute_input": "2021-07-12T15:29:42.046513Z",
     "iopub.status.busy": "2021-07-12T15:29:42.045604Z",
     "iopub.status.idle": "2021-07-12T15:29:42.049453Z",
     "shell.execute_reply": "2021-07-12T15:29:42.049975Z",
     "shell.execute_reply.started": "2021-07-12T10:47:18.793071Z"
    },
    "papermill": {
     "duration": 0.086811,
     "end_time": "2021-07-12T15:29:42.050147",
     "exception": false,
     "start_time": "2021-07-12T15:29:41.963336",
     "status": "completed"
    },
    "tags": []
   },
   "outputs": [
    {
     "data": {
      "text/plain": [
       "dict_keys(['algorithm', 'copy_x', 'init', 'max_iter', 'n_clusters', 'n_init', 'n_jobs', 'precompute_distances', 'random_state', 'tol', 'verbose'])"
      ]
     },
     "execution_count": 36,
     "metadata": {},
     "output_type": "execute_result"
    }
   ],
   "source": [
    "KMeans().get_params().keys()"
   ]
  },
  {
   "cell_type": "markdown",
   "id": "defined-creature",
   "metadata": {
    "papermill": {
     "duration": 0.077003,
     "end_time": "2021-07-12T15:29:42.203869",
     "exception": false,
     "start_time": "2021-07-12T15:29:42.126866",
     "status": "completed"
    },
    "tags": []
   },
   "source": [
    "### KMeans as Data Preparation Step\r\n",
    "In this part I will try to find out whether the KMeans is a good data preparation step based on the given train data or not. This goes hand in hand with the determination of finding the correct amount of clusters, if they exist. A very good indicator for the correct amount of clusters is the silhouette coefficient."
   ]
  },
  {
   "cell_type": "code",
   "execution_count": 37,
   "id": "severe-locking",
   "metadata": {
    "execution": {
     "iopub.execute_input": "2021-07-12T15:29:42.363823Z",
     "iopub.status.busy": "2021-07-12T15:29:42.363088Z",
     "iopub.status.idle": "2021-07-12T18:26:56.320048Z",
     "shell.execute_reply": "2021-07-12T18:26:56.319167Z",
     "shell.execute_reply.started": "2021-07-12T10:47:19.877153Z"
    },
    "papermill": {
     "duration": 10634.040128,
     "end_time": "2021-07-12T18:26:56.320330",
     "exception": false,
     "start_time": "2021-07-12T15:29:42.280202",
     "status": "completed"
    },
    "tags": []
   },
   "outputs": [],
   "source": [
    "k_range = range(20,500,20) # defining the range of clusters looking into\n",
    "k_list = list()\n",
    "\n",
    "\n",
    "for k in k_range:\n",
    "    kmeans = KMeans(n_clusters=k, random_state=42)\n",
    "    kmeans = kmeans.fit(mnist_features_prepared)\n",
    "    \n",
    "    k_list.append(kmeans)"
   ]
  },
  {
   "cell_type": "markdown",
   "id": "useful-authentication",
   "metadata": {
    "papermill": {
     "duration": 0.077888,
     "end_time": "2021-07-12T18:26:56.484004",
     "exception": false,
     "start_time": "2021-07-12T18:26:56.406116",
     "status": "completed"
    },
    "tags": []
   },
   "source": [
    "Getting the inertia of the Clusters for a plot"
   ]
  },
  {
   "cell_type": "code",
   "execution_count": 38,
   "id": "flying-basin",
   "metadata": {
    "execution": {
     "iopub.execute_input": "2021-07-12T18:26:56.653081Z",
     "iopub.status.busy": "2021-07-12T18:26:56.652395Z",
     "iopub.status.idle": "2021-07-12T18:26:56.657475Z",
     "shell.execute_reply": "2021-07-12T18:26:56.656824Z",
     "shell.execute_reply.started": "2021-07-12T13:43:12.163080Z"
    },
    "papermill": {
     "duration": 0.095849,
     "end_time": "2021-07-12T18:26:56.657626",
     "exception": false,
     "start_time": "2021-07-12T18:26:56.561777",
     "status": "completed"
    },
    "tags": []
   },
   "outputs": [],
   "source": [
    "inertias_list = []\n",
    "for model in k_list:\n",
    "    inertias_list.append([model.inertia_])\n",
    "    "
   ]
  },
  {
   "cell_type": "code",
   "execution_count": 39,
   "id": "adjusted-inspector",
   "metadata": {
    "execution": {
     "iopub.execute_input": "2021-07-12T18:26:56.863771Z",
     "iopub.status.busy": "2021-07-12T18:26:56.858646Z",
     "iopub.status.idle": "2021-07-12T18:26:57.219833Z",
     "shell.execute_reply": "2021-07-12T18:26:57.219203Z",
     "shell.execute_reply.started": "2021-07-12T14:25:23.183182Z"
    },
    "papermill": {
     "duration": 0.485258,
     "end_time": "2021-07-12T18:26:57.219984",
     "exception": false,
     "start_time": "2021-07-12T18:26:56.734726",
     "status": "completed"
    },
    "tags": []
   },
   "outputs": [
    {
     "data": {
      "image/png": "[encoded data removed]",
      "text/plain": [
       "<Figure size 576x360 with 1 Axes>"
      ]
     },
     "metadata": {
      "needs_background": "light"
     },
     "output_type": "display_data"
    }
   ],
   "source": [
    "plt.figure(figsize=(8, 5))\n",
    "plt.plot(k_range, inertias_list, \"bo-\")\n",
    "plt.title(\"Inertia for the Amount of Clusters\")\n",
    "plt.xlabel(\"$k$\", fontsize=14)\n",
    "plt.ylabel(\"Inertia in M.\", fontsize=14)\n",
    "plt.show()"
   ]
  },
  {
   "cell_type": "code",
   "execution_count": 40,
   "id": "foreign-croatia",
   "metadata": {
    "execution": {
     "iopub.execute_input": "2021-07-12T18:26:57.385130Z",
     "iopub.status.busy": "2021-07-12T18:26:57.383868Z",
     "iopub.status.idle": "2021-07-12T18:55:17.285522Z",
     "shell.execute_reply": "2021-07-12T18:55:17.286234Z",
     "shell.execute_reply.started": "2021-06-27T09:15:15.855722Z"
    },
    "papermill": {
     "duration": 1699.986755,
     "end_time": "2021-07-12T18:55:17.286482",
     "exception": false,
     "start_time": "2021-07-12T18:26:57.299727",
     "status": "completed"
    },
    "tags": []
   },
   "outputs": [],
   "source": [
    "from sklearn.metrics import silhouette_score\r\n",
    "\r\n",
    "sil_list = list()\r\n",
    "\r\n",
    "for model in k_list:\r\n",
    "    sil_score = silhouette_score(mnist_features_prepared,model.labels_)\r\n",
    "    sil_list.append(sil_score)"
   ]
  },
  {
   "cell_type": "code",
   "execution_count": 41,
   "id": "cognitive-template",
   "metadata": {
    "execution": {
     "iopub.execute_input": "2021-07-12T18:55:17.454397Z",
     "iopub.status.busy": "2021-07-12T18:55:17.453580Z",
     "iopub.status.idle": "2021-07-12T18:55:17.458473Z",
     "shell.execute_reply": "2021-07-12T18:55:17.459073Z"
    },
    "papermill": {
     "duration": 0.091082,
     "end_time": "2021-07-12T18:55:17.459252",
     "exception": false,
     "start_time": "2021-07-12T18:55:17.368170",
     "status": "completed"
    },
    "tags": []
   },
   "outputs": [],
   "source": [
    "best_index = np.argmax(sil_list)\r\n",
    "best_k = k_list[best_index]\r\n",
    "best_score = sil_list[best_index]"
   ]
  },
  {
   "cell_type": "code",
   "execution_count": 42,
   "id": "earlier-pitch",
   "metadata": {
    "execution": {
     "iopub.execute_input": "2021-07-12T18:55:17.621865Z",
     "iopub.status.busy": "2021-07-12T18:55:17.620447Z",
     "iopub.status.idle": "2021-07-12T18:55:17.628002Z",
     "shell.execute_reply": "2021-07-12T18:55:17.628616Z"
    },
    "papermill": {
     "duration": 0.090981,
     "end_time": "2021-07-12T18:55:17.628825",
     "exception": false,
     "start_time": "2021-07-12T18:55:17.537844",
     "status": "completed"
    },
    "tags": []
   },
   "outputs": [
    {
     "name": "stdout",
     "output_type": "stream",
     "text": [
      "0.048883322205705\n",
      "KMeans(n_clusters=280, random_state=42)\n"
     ]
    }
   ],
   "source": [
    "print(best_score)\r\n",
    "print(best_k)"
   ]
  },
  {
   "cell_type": "code",
   "execution_count": 43,
   "id": "understood-murder",
   "metadata": {
    "execution": {
     "iopub.execute_input": "2021-07-12T18:55:17.791861Z",
     "iopub.status.busy": "2021-07-12T18:55:17.791192Z",
     "iopub.status.idle": "2021-07-12T18:55:17.931986Z",
     "shell.execute_reply": "2021-07-12T18:55:17.932537Z"
    },
    "papermill": {
     "duration": 0.224394,
     "end_time": "2021-07-12T18:55:17.932778",
     "exception": false,
     "start_time": "2021-07-12T18:55:17.708384",
     "status": "completed"
    },
    "tags": []
   },
   "outputs": [
    {
     "data": {
      "text/plain": [
       "[<matplotlib.lines.Line2D at 0x7f14ea1c2250>]"
      ]
     },
     "execution_count": 43,
     "metadata": {},
     "output_type": "execute_result"
    },
    {
     "data": {
      "image/png": "[encoded data removed]",
      "text/plain": [
       "<Figure size 576x216 with 1 Axes>"
      ]
     },
     "metadata": {
      "needs_background": "light"
     },
     "output_type": "display_data"
    }
   ],
   "source": [
    "plt.figure(figsize=(8,3))\r\n",
    "plt.plot(k_range,sil_list)"
   ]
  },
  {
   "cell_type": "markdown",
   "id": "decreased-document",
   "metadata": {
    "papermill": {
     "duration": 0.083912,
     "end_time": "2021-07-12T18:55:18.098174",
     "exception": false,
     "start_time": "2021-07-12T18:55:18.014262",
     "status": "completed"
    },
    "tags": []
   },
   "source": [
    "A closer look into the different cluster runs lead to the realization, that KMeans will not support me with this dataset (Neverthelese I will leave it in the configuration as described in the chapter headline)"
   ]
  },
  {
   "cell_type": "code",
   "execution_count": 44,
   "id": "accessory-toyota",
   "metadata": {
    "execution": {
     "iopub.execute_input": "2021-07-12T18:55:18.286049Z",
     "iopub.status.busy": "2021-07-12T18:55:18.285273Z",
     "iopub.status.idle": "2021-07-12T19:07:40.782434Z",
     "shell.execute_reply": "2021-07-12T19:07:40.783012Z",
     "shell.execute_reply.started": "2021-06-27T08:53:01.574703Z"
    },
    "papermill": {
     "duration": 742.600234,
     "end_time": "2021-07-12T19:07:40.783234",
     "exception": false,
     "start_time": "2021-07-12T18:55:18.183000",
     "status": "completed"
    },
    "tags": []
   },
   "outputs": [
    {
     "name": "stdout",
     "output_type": "stream",
     "text": [
      "Fitting 3 folds for each of 1 candidates, totalling 3 fits\n",
      "[CV] END kmeans__n_clusters=50, kneighbors__n_neighbors=4, kneighbors__p=1, kneighbors__weights=distance; total time= 2.4min\n",
      "[CV] END kmeans__n_clusters=50, kneighbors__n_neighbors=4, kneighbors__p=1, kneighbors__weights=distance; total time= 2.3min\n",
      "[CV] END kmeans__n_clusters=50, kneighbors__n_neighbors=4, kneighbors__p=1, kneighbors__weights=distance; total time= 2.3min\n"
     ]
    },
    {
     "data": {
      "text/plain": [
       "GridSearchCV(cv=3,\n",
       "             estimator=Pipeline(steps=[('kmeans', KMeans()),\n",
       "                                       ('kneighbors', KNeighborsClassifier())]),\n",
       "             n_jobs=1,\n",
       "             param_grid={'kmeans__n_clusters': [50],\n",
       "                         'kneighbors__n_neighbors': [4], 'kneighbors__p': [1],\n",
       "                         'kneighbors__weights': ['distance']},\n",
       "             return_train_score=True, verbose=2)"
      ]
     },
     "execution_count": 44,
     "metadata": {},
     "output_type": "execute_result"
    }
   ],
   "source": [
    "##%%time\r\n",
    "from sklearn.model_selection import GridSearchCV\r\n",
    "\r\n",
    "param_grid_try_1 =[\r\n",
    "  { \r\n",
    "    'n_neighbors':[1,2,3,4],\r\n",
    "    'weights':['distance','uniform'],\r\n",
    "    'p':[1]\r\n",
    "  },\r\n",
    "  { \r\n",
    "    'n_neighbors':[4,5,6],\r\n",
    "    'weights':['distance'],\r\n",
    "    'p':[1]\r\n",
    "  },\r\n",
    "   {\r\n",
    "    'n_neighbors':[4],\r\n",
    "    'leaf_size': [200,300,400],\r\n",
    "    'weights':['distance'],\r\n",
    "    'p':[1]\r\n",
    "  }\r\n",
    "]\r\n",
    "\r\n",
    "\r\n",
    "param_grid_try_2 = dict(\r\n",
    "   kmeans__n_clusters= [400,500],\r\n",
    "   kneighbors__n_neighbors=[4,5,6,10,15,20],\r\n",
    "   kneighbors__weights=['distance'],\r\n",
    "   kneighbors__p=[1]\r\n",
    ")\r\n",
    "\r\n",
    "param_grid_try_3 = dict(\r\n",
    "   kmeans__n_clusters=[400,500,600],\r\n",
    "   kneighbors__n_neighbors=[2,3,4,5],\r\n",
    "   kneighbors__weights=['distance'],\r\n",
    "   kneighbors__p=[1]\r\n",
    ")\r\n",
    "\r\n",
    "param_grid_try_4 = dict(\r\n",
    "   kmeans__n_clusters= [200,300,350,400,500],\r\n",
    "   kneighbors__n_neighbors=[4],\r\n",
    "   kneighbors__weights=['distance'],\r\n",
    "   kneighbors__p=[2]  \r\n",
    ")\r\n",
    "\r\n",
    "param_grid_try_5 = dict(\r\n",
    "   kmeans__n_clusters= [5000],\r\n",
    "   kneighbors__n_neighbors=[4],\r\n",
    "   kneighbors__weights=['distance']\r\n",
    ")\r\n",
    "\r\n",
    "## one with kmeans__n_clusters param for showcase\r\n",
    "param_grid = dict(\r\n",
    "   kmeans__n_clusters=[50],\r\n",
    "   kneighbors__n_neighbors=[4],\r\n",
    "   kneighbors__weights=['distance'],\r\n",
    "   kneighbors__p=[1]  \r\n",
    ")\r\n",
    "\r\n",
    "grid_search = GridSearchCV(prep_pipeline, param_grid, cv=3, n_jobs=1, return_train_score=True, verbose=2)\r\n",
    "grid_search.fit(mnist_features_prepared, mnist_labels)\r\n"
   ]
  },
  {
   "cell_type": "code",
   "execution_count": 45,
   "id": "alpine-runner",
   "metadata": {
    "execution": {
     "iopub.execute_input": "2021-07-12T19:07:40.955924Z",
     "iopub.status.busy": "2021-07-12T19:07:40.955198Z",
     "iopub.status.idle": "2021-07-12T19:07:40.957990Z",
     "shell.execute_reply": "2021-07-12T19:07:40.957433Z"
    },
    "papermill": {
     "duration": 0.092285,
     "end_time": "2021-07-12T19:07:40.958134",
     "exception": false,
     "start_time": "2021-07-12T19:07:40.865849",
     "status": "completed"
    },
    "tags": []
   },
   "outputs": [],
   "source": [
    "# Model load and save structure.\n",
    "knnPkl_gs_filename = 'knnPickle_gs_3'\n",
    "\n",
    "knnPkl_gs_fildir = os.path.join(knnPkl_dirname_kgg, knnPkl_gs_filename)"
   ]
  },
  {
   "cell_type": "code",
   "execution_count": 46,
   "id": "mechanical-found",
   "metadata": {
    "execution": {
     "iopub.execute_input": "2021-07-12T19:07:41.128538Z",
     "iopub.status.busy": "2021-07-12T19:07:41.127808Z",
     "iopub.status.idle": "2021-07-12T19:07:41.131674Z",
     "shell.execute_reply": "2021-07-12T19:07:41.131111Z"
    },
    "papermill": {
     "duration": 0.091899,
     "end_time": "2021-07-12T19:07:41.131857",
     "exception": false,
     "start_time": "2021-07-12T19:07:41.039958",
     "status": "completed"
    },
    "tags": []
   },
   "outputs": [],
   "source": [
    "# Save model\n",
    "#pickle.dump(grid_search, open(knnPkl_gs_fildir, 'wb'))"
   ]
  },
  {
   "cell_type": "code",
   "execution_count": 47,
   "id": "adjusted-chicken",
   "metadata": {
    "execution": {
     "iopub.execute_input": "2021-07-12T19:07:41.300835Z",
     "iopub.status.busy": "2021-07-12T19:07:41.299787Z",
     "iopub.status.idle": "2021-07-12T19:07:41.303347Z",
     "shell.execute_reply": "2021-07-12T19:07:41.302534Z"
    },
    "papermill": {
     "duration": 0.090094,
     "end_time": "2021-07-12T19:07:41.303505",
     "exception": false,
     "start_time": "2021-07-12T19:07:41.213411",
     "status": "completed"
    },
    "tags": []
   },
   "outputs": [],
   "source": [
    "# Load model\n",
    "#grid_search = pickle.load(open(knnPkl_gs_fildir, 'rb'))"
   ]
  },
  {
   "cell_type": "code",
   "execution_count": 48,
   "id": "impressive-mistake",
   "metadata": {
    "execution": {
     "iopub.execute_input": "2021-07-12T19:07:41.474033Z",
     "iopub.status.busy": "2021-07-12T19:07:41.473040Z",
     "iopub.status.idle": "2021-07-12T19:07:41.478224Z",
     "shell.execute_reply": "2021-07-12T19:07:41.477640Z",
     "shell.execute_reply.started": "2021-06-27T09:00:47.449225Z"
    },
    "papermill": {
     "duration": 0.092384,
     "end_time": "2021-07-12T19:07:41.478389",
     "exception": false,
     "start_time": "2021-07-12T19:07:41.386005",
     "status": "completed"
    },
    "tags": []
   },
   "outputs": [
    {
     "name": "stdout",
     "output_type": "stream",
     "text": [
      "Best params:  {'kmeans__n_clusters': 50, 'kneighbors__n_neighbors': 4, 'kneighbors__p': 1, 'kneighbors__weights': 'distance'}\n",
      "Best score:  0.872642857142857\n"
     ]
    }
   ],
   "source": [
    "print(\"Best params: \", grid_search.best_params_)\n",
    "print(\"Best score: \", grid_search.best_score_)"
   ]
  },
  {
   "cell_type": "code",
   "execution_count": 49,
   "id": "former-fever",
   "metadata": {
    "execution": {
     "iopub.execute_input": "2021-07-12T19:07:41.648978Z",
     "iopub.status.busy": "2021-07-12T19:07:41.648101Z",
     "iopub.status.idle": "2021-07-12T19:07:41.651748Z",
     "shell.execute_reply": "2021-07-12T19:07:41.652254Z"
    },
    "papermill": {
     "duration": 0.092154,
     "end_time": "2021-07-12T19:07:41.652424",
     "exception": false,
     "start_time": "2021-07-12T19:07:41.560270",
     "status": "completed"
    },
    "tags": []
   },
   "outputs": [
    {
     "name": "stdout",
     "output_type": "stream",
     "text": [
      "0.872642857142857 {'kmeans__n_clusters': 50, 'kneighbors__n_neighbors': 4, 'kneighbors__p': 1, 'kneighbors__weights': 'distance'}\n"
     ]
    }
   ],
   "source": [
    "cvres = grid_search.cv_results_\n",
    "\n",
    "for mean_score, params in zip(cvres[\"mean_test_score\"],cvres[\"params\"]):\n",
    "    print(mean_score, params)"
   ]
  },
  {
   "cell_type": "raw",
   "id": "minimal-absence",
   "metadata": {
    "execution": {
     "iopub.execute_input": "2021-06-25T07:34:18.274323Z",
     "iopub.status.busy": "2021-06-25T07:34:18.274049Z",
     "iopub.status.idle": "2021-06-25T07:34:18.410872Z",
     "shell.execute_reply": "2021-06-25T07:34:18.409873Z",
     "shell.execute_reply.started": "2021-06-25T07:34:18.274298Z"
    },
    "papermill": {
     "duration": 0.083392,
     "end_time": "2021-07-12T19:07:41.818375",
     "exception": false,
     "start_time": "2021-07-12T19:07:41.734983",
     "status": "completed"
    },
    "tags": []
   },
   "source": [
    "fig = plt.figure(figsize=(8,12))\n",
    "\n",
    "ax = fig.add_subplot(2,1,1)\n",
    "\n",
    "ax.plot(list(range(1,len(cvres['mean_train_score']) + 1)), cvres['mean_train_score'])\n",
    "ax.plot(list(range(1,len(cvres['mean_test_score']) + 1)), cvres['mean_test_score'])"
   ]
  },
  {
   "cell_type": "markdown",
   "id": "satellite-hepatitis",
   "metadata": {
    "papermill": {
     "duration": 0.082636,
     "end_time": "2021-07-12T19:07:41.983117",
     "exception": false,
     "start_time": "2021-07-12T19:07:41.900481",
     "status": "completed"
    },
    "tags": []
   },
   "source": [
    "# Final\r\n",
    "Retraining the model with the best hyperparam set found out"
   ]
  },
  {
   "cell_type": "code",
   "execution_count": 50,
   "id": "employed-process",
   "metadata": {
    "execution": {
     "iopub.execute_input": "2021-07-12T19:07:42.156970Z",
     "iopub.status.busy": "2021-07-12T19:07:42.156239Z",
     "iopub.status.idle": "2021-07-12T19:07:42.191077Z",
     "shell.execute_reply": "2021-07-12T19:07:42.191544Z"
    },
    "papermill": {
     "duration": 0.125814,
     "end_time": "2021-07-12T19:07:42.191778",
     "exception": false,
     "start_time": "2021-07-12T19:07:42.065964",
     "status": "completed"
    },
    "tags": []
   },
   "outputs": [
    {
     "data": {
      "text/plain": [
       "KNeighborsClassifier(n_jobs=-1, n_neighbors=4, p=1, weights='distance')"
      ]
     },
     "execution_count": 50,
     "metadata": {},
     "output_type": "execute_result"
    }
   ],
   "source": [
    "knn_final = KNeighborsClassifier()\r\n",
    "knn_final = KNeighborsClassifier(n_neighbors=4,weights='distance',p=1, n_jobs=-1)\r\n",
    "knn_final.fit(mnist_features_prepared, mnist_labels)"
   ]
  },
  {
   "cell_type": "code",
   "execution_count": 51,
   "id": "occasional-graduation",
   "metadata": {
    "execution": {
     "iopub.execute_input": "2021-07-12T19:07:42.361509Z",
     "iopub.status.busy": "2021-07-12T19:07:42.360815Z",
     "iopub.status.idle": "2021-07-12T19:07:42.669590Z",
     "shell.execute_reply": "2021-07-12T19:07:42.668916Z"
    },
    "papermill": {
     "duration": 0.395267,
     "end_time": "2021-07-12T19:07:42.669756",
     "exception": false,
     "start_time": "2021-07-12T19:07:42.274489",
     "status": "completed"
    },
    "tags": []
   },
   "outputs": [],
   "source": [
    "test_copy = test.copy()\r\n",
    "\r\n",
    "test_prep = num_pipeline.transform(test_copy) # Transform data for kneighbors"
   ]
  },
  {
   "cell_type": "code",
   "execution_count": 52,
   "id": "numeric-recycling",
   "metadata": {
    "execution": {
     "iopub.execute_input": "2021-07-12T19:07:42.845058Z",
     "iopub.status.busy": "2021-07-12T19:07:42.844316Z",
     "iopub.status.idle": "2021-07-12T19:07:43.720563Z",
     "shell.execute_reply": "2021-07-12T19:07:43.720027Z"
    },
    "papermill": {
     "duration": 0.967994,
     "end_time": "2021-07-12T19:07:43.720734",
     "exception": false,
     "start_time": "2021-07-12T19:07:42.752740",
     "status": "completed"
    },
    "tags": []
   },
   "outputs": [
    {
     "name": "stdout",
     "output_type": "stream",
     "text": [
      "Prediction:  [7]\n",
      "Propability:  [[0. 0. 0. 0. 0. 0. 0. 1. 0. 0.]]\n",
      "Prediction:  [7]\n",
      "Propability:  [[0.         0.         0.         0.         0.         0.\n",
      "  0.         0.75216474 0.         0.24783526]]\n",
      "Prediction:  [7]\n",
      "Propability:  [[0. 0. 0. 0. 0. 0. 0. 1. 0. 0.]]\n"
     ]
    }
   ],
   "source": [
    "print(\"Prediction: \" , knn_cl_ransearch.predict(test_prep[5].reshape(1,-1)))\r\n",
    "print(\"Propability: \", knn_cl_ransearch.predict_proba(test_prep[5].reshape(1,-1)))\r\n",
    "\r\n",
    "print(\"Prediction: \" , grid_search.predict(test_prep[5].reshape(1,-1)))\r\n",
    "print(\"Propability: \", grid_search.predict_proba(test_prep[5].reshape(1,-1)))\r\n",
    "\r\n",
    "print(\"Prediction: \" , knn_final.predict(test_prep[5].reshape(1,-1)))\r\n",
    "print(\"Propability: \", knn_final.predict_proba(test_prep[5].reshape(1,-1)))"
   ]
  },
  {
   "cell_type": "code",
   "execution_count": 53,
   "id": "portuguese-electric",
   "metadata": {
    "execution": {
     "iopub.execute_input": "2021-07-12T19:07:43.917300Z",
     "iopub.status.busy": "2021-07-12T19:07:43.916564Z",
     "iopub.status.idle": "2021-07-12T19:07:43.966362Z",
     "shell.execute_reply": "2021-07-12T19:07:43.966916Z"
    },
    "papermill": {
     "duration": 0.161105,
     "end_time": "2021-07-12T19:07:43.967101",
     "exception": false,
     "start_time": "2021-07-12T19:07:43.805996",
     "status": "completed"
    },
    "tags": []
   },
   "outputs": [
    {
     "data": {
      "image/png": "[encoded data removed]",
      "text/plain": [
       "<Figure size 432x288 with 1 Axes>"
      ]
     },
     "metadata": {
      "needs_background": "light"
     },
     "output_type": "display_data"
    }
   ],
   "source": [
    "plt.imshow(np.asfarray(test_prep[6]).reshape(28,28), cmap='binary')\n",
    "plt.axis(\"off\")\n",
    "plt.show()"
   ]
  },
  {
   "cell_type": "markdown",
   "id": "informative-italic",
   "metadata": {
    "papermill": {
     "duration": 0.086254,
     "end_time": "2021-07-12T19:07:44.138543",
     "exception": false,
     "start_time": "2021-07-12T19:07:44.052289",
     "status": "completed"
    },
    "tags": []
   },
   "source": [
    "## Preparing Submission"
   ]
  },
  {
   "cell_type": "code",
   "execution_count": 54,
   "id": "cordless-cursor",
   "metadata": {
    "execution": {
     "iopub.execute_input": "2021-07-12T19:07:44.312720Z",
     "iopub.status.busy": "2021-07-12T19:07:44.312052Z",
     "iopub.status.idle": "2021-07-12T19:07:44.320503Z",
     "shell.execute_reply": "2021-07-12T19:07:44.321118Z"
    },
    "papermill": {
     "duration": 0.098098,
     "end_time": "2021-07-12T19:07:44.321305",
     "exception": false,
     "start_time": "2021-07-12T19:07:44.223207",
     "status": "completed"
    },
    "tags": []
   },
   "outputs": [],
   "source": [
    "mnist_submission = pd.DataFrame(columns=['ImageId','Label'])\r\n",
    "test_prep_df = pd.DataFrame(data=test_prep)"
   ]
  },
  {
   "cell_type": "code",
   "execution_count": 55,
   "id": "united-ideal",
   "metadata": {
    "execution": {
     "iopub.execute_input": "2021-07-12T19:07:44.492722Z",
     "iopub.status.busy": "2021-07-12T19:07:44.492051Z",
     "iopub.status.idle": "2021-07-12T20:00:11.998561Z",
     "shell.execute_reply": "2021-07-12T20:00:11.997954Z"
    },
    "papermill": {
     "duration": 3147.593328,
     "end_time": "2021-07-12T20:00:11.998761",
     "exception": false,
     "start_time": "2021-07-12T19:07:44.405433",
     "status": "completed"
    },
    "tags": []
   },
   "outputs": [],
   "source": [
    "# fill submission file\r\n",
    "i=0\r\n",
    "for row in test_prep:\r\n",
    "    i = i+1\r\n",
    "    index = i\r\n",
    "    label = knn_final.predict(row.reshape(1,-1))\r\n",
    "    \r\n",
    "    mnist_submission = mnist_submission.append({'ImageId' : index , 'Label': label} , ignore_index=True)\r\n",
    "    pass"
   ]
  },
  {
   "cell_type": "code",
   "execution_count": 56,
   "id": "conventional-bulgarian",
   "metadata": {
    "execution": {
     "iopub.execute_input": "2021-07-12T20:00:12.210501Z",
     "iopub.status.busy": "2021-07-12T20:00:12.191040Z",
     "iopub.status.idle": "2021-07-12T20:00:12.214037Z",
     "shell.execute_reply": "2021-07-12T20:00:12.214838Z"
    },
    "papermill": {
     "duration": 0.130466,
     "end_time": "2021-07-12T20:00:12.215080",
     "exception": false,
     "start_time": "2021-07-12T20:00:12.084614",
     "status": "completed"
    },
    "tags": []
   },
   "outputs": [],
   "source": [
    "# Preparing the submission file\n",
    "mnist_submission.ImageId = mnist_submission.ImageId.astype(int)\n",
    "mnist_submission.Label = mnist_submission.Label.astype(int)"
   ]
  },
  {
   "cell_type": "code",
   "execution_count": 57,
   "id": "proper-foundation",
   "metadata": {
    "execution": {
     "iopub.execute_input": "2021-07-12T20:00:12.410435Z",
     "iopub.status.busy": "2021-07-12T20:00:12.409727Z",
     "iopub.status.idle": "2021-07-12T20:00:12.470968Z",
     "shell.execute_reply": "2021-07-12T20:00:12.470273Z"
    },
    "papermill": {
     "duration": 0.15421,
     "end_time": "2021-07-12T20:00:12.471117",
     "exception": false,
     "start_time": "2021-07-12T20:00:12.316907",
     "status": "completed"
    },
    "tags": []
   },
   "outputs": [],
   "source": [
    "mnist_submission.to_csv(\"mnist_submission.csv\",index=False)"
   ]
  },
  {
   "cell_type": "code",
   "execution_count": 58,
   "id": "optional-bacon",
   "metadata": {
    "execution": {
     "iopub.execute_input": "2021-07-12T20:00:12.755057Z",
     "iopub.status.busy": "2021-07-12T20:00:12.748042Z",
     "iopub.status.idle": "2021-07-12T20:00:12.760434Z",
     "shell.execute_reply": "2021-07-12T20:00:12.759770Z"
    },
    "papermill": {
     "duration": 0.102791,
     "end_time": "2021-07-12T20:00:12.760589",
     "exception": false,
     "start_time": "2021-07-12T20:00:12.657798",
     "status": "completed"
    },
    "tags": []
   },
   "outputs": [
    {
     "data": {
      "text/html": [
       "<div>\n",
       "<style scoped>\n",
       "    .dataframe tbody tr th:only-of-type {\n",
       "        vertical-align: middle;\n",
       "    }\n",
       "\n",
       "    .dataframe tbody tr th {\n",
       "        vertical-align: top;\n",
       "    }\n",
       "\n",
       "    .dataframe thead th {\n",
       "        text-align: right;\n",
       "    }\n",
       "</style>\n",
       "<table border=\"1\" class=\"dataframe\">\n",
       "  <thead>\n",
       "    <tr style=\"text-align: right;\">\n",
       "      <th></th>\n",
       "      <th>ImageId</th>\n",
       "      <th>Label</th>\n",
       "    </tr>\n",
       "  </thead>\n",
       "  <tbody>\n",
       "    <tr>\n",
       "      <th>0</th>\n",
       "      <td>1</td>\n",
       "      <td>2</td>\n",
       "    </tr>\n",
       "    <tr>\n",
       "      <th>1</th>\n",
       "      <td>2</td>\n",
       "      <td>0</td>\n",
       "    </tr>\n",
       "    <tr>\n",
       "      <th>2</th>\n",
       "      <td>3</td>\n",
       "      <td>9</td>\n",
       "    </tr>\n",
       "    <tr>\n",
       "      <th>3</th>\n",
       "      <td>4</td>\n",
       "      <td>4</td>\n",
       "    </tr>\n",
       "    <tr>\n",
       "      <th>4</th>\n",
       "      <td>5</td>\n",
       "      <td>3</td>\n",
       "    </tr>\n",
       "    <tr>\n",
       "      <th>...</th>\n",
       "      <td>...</td>\n",
       "      <td>...</td>\n",
       "    </tr>\n",
       "    <tr>\n",
       "      <th>27995</th>\n",
       "      <td>27996</td>\n",
       "      <td>9</td>\n",
       "    </tr>\n",
       "    <tr>\n",
       "      <th>27996</th>\n",
       "      <td>27997</td>\n",
       "      <td>7</td>\n",
       "    </tr>\n",
       "    <tr>\n",
       "      <th>27997</th>\n",
       "      <td>27998</td>\n",
       "      <td>3</td>\n",
       "    </tr>\n",
       "    <tr>\n",
       "      <th>27998</th>\n",
       "      <td>27999</td>\n",
       "      <td>9</td>\n",
       "    </tr>\n",
       "    <tr>\n",
       "      <th>27999</th>\n",
       "      <td>28000</td>\n",
       "      <td>2</td>\n",
       "    </tr>\n",
       "  </tbody>\n",
       "</table>\n",
       "<p>28000 rows × 2 columns</p>\n",
       "</div>"
      ],
      "text/plain": [
       "       ImageId  Label\n",
       "0            1      2\n",
       "1            2      0\n",
       "2            3      9\n",
       "3            4      4\n",
       "4            5      3\n",
       "...        ...    ...\n",
       "27995    27996      9\n",
       "27996    27997      7\n",
       "27997    27998      3\n",
       "27998    27999      9\n",
       "27999    28000      2\n",
       "\n",
       "[28000 rows x 2 columns]"
      ]
     },
     "execution_count": 58,
     "metadata": {},
     "output_type": "execute_result"
    }
   ],
   "source": [
    "mnist_submission"
   ]
  }
 ],
 "metadata": {
  "kernelspec": {
   "display_name": "Python 3",
   "language": "python",
   "name": "python3"
  },
  "language_info": {
   "codemirror_mode": {
    "name": "ipython",
    "version": 3
   },
   "file_extension": ".py",
   "mimetype": "text/x-python",
   "name": "python",
   "nbconvert_exporter": "python",
   "pygments_lexer": "ipython3",
   "version": "3.7.9"
  },
  "papermill": {
   "default_parameters": {},
   "duration": 20041.31399,
   "end_time": "2021-07-12T20:00:13.859184",
   "environment_variables": {},
   "exception": null,
   "input_path": "__notebook__.ipynb",
   "output_path": "__notebook__.ipynb",
   "parameters": {},
   "start_time": "2021-07-12T14:26:12.545194",
   "version": "2.3.2"
  }
 },
 "nbformat": 4,
 "nbformat_minor": 5
}
